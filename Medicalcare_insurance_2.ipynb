{
  "nbformat": 4,
  "nbformat_minor": 0,
  "metadata": {
    "colab": {
      "provenance": [],
      "authorship_tag": "ABX9TyM2m7uQQcunGvy4bSz8xcMG",
      "include_colab_link": true
    },
    "kernelspec": {
      "name": "python3",
      "display_name": "Python 3"
    },
    "language_info": {
      "name": "python"
    }
  },
  "cells": [
    {
      "cell_type": "markdown",
      "metadata": {
        "id": "view-in-github",
        "colab_type": "text"
      },
      "source": [
        "<a href=\"https://colab.research.google.com/github/Mhmmd-Mhmmd/Quera_questions/blob/main/Medicalcare_insurance_2.ipynb\" target=\"_parent\"><img src=\"https://colab.research.google.com/assets/colab-badge.svg\" alt=\"Open In Colab\"/></a>"
      ]
    },
    {
      "cell_type": "code",
      "source": [
        "import tensorflow as tf\n",
        "import numpy as np\n",
        "import pandas as pd\n",
        "import matplotlib.pyplot as plt\n",
        "from sklearn.preprocessing import MinMaxScaler, OneHotEncoder\n",
        "from sklearn.compose import make_column_transformer\n",
        "from sklearn.model_selection import train_test_split"
      ],
      "metadata": {
        "id": "9-rcKL382sF5"
      },
      "execution_count": 8,
      "outputs": []
    },
    {
      "cell_type": "code",
      "execution_count": 3,
      "metadata": {
        "id": "mFBAs5tk2g3u"
      },
      "outputs": [],
      "source": [
        "df = pd.read_csv('https://raw.githubusercontent.com/stedy/Machine-Learning-with-R-datasets/master/insurance.csv')"
      ]
    },
    {
      "cell_type": "code",
      "source": [
        "df.info()"
      ],
      "metadata": {
        "colab": {
          "base_uri": "https://localhost:8080/"
        },
        "id": "lXAtAuPM3KQ3",
        "outputId": "8ac31d04-9fb0-483c-c334-6204e1d46956"
      },
      "execution_count": 4,
      "outputs": [
        {
          "output_type": "stream",
          "name": "stdout",
          "text": [
            "<class 'pandas.core.frame.DataFrame'>\n",
            "RangeIndex: 1338 entries, 0 to 1337\n",
            "Data columns (total 7 columns):\n",
            " #   Column    Non-Null Count  Dtype  \n",
            "---  ------    --------------  -----  \n",
            " 0   age       1338 non-null   int64  \n",
            " 1   sex       1338 non-null   object \n",
            " 2   bmi       1338 non-null   float64\n",
            " 3   children  1338 non-null   int64  \n",
            " 4   smoker    1338 non-null   object \n",
            " 5   region    1338 non-null   object \n",
            " 6   charges   1338 non-null   float64\n",
            "dtypes: float64(2), int64(2), object(3)\n",
            "memory usage: 73.3+ KB\n"
          ]
        }
      ]
    },
    {
      "cell_type": "code",
      "source": [
        "df.head()"
      ],
      "metadata": {
        "colab": {
          "base_uri": "https://localhost:8080/",
          "height": 206
        },
        "id": "1V_vvc1r3OS9",
        "outputId": "e3220a80-c448-442f-b9fd-69edf95fbe84"
      },
      "execution_count": 5,
      "outputs": [
        {
          "output_type": "execute_result",
          "data": {
            "text/plain": [
              "   age     sex     bmi  children smoker     region      charges\n",
              "0   19  female  27.900         0    yes  southwest  16884.92400\n",
              "1   18    male  33.770         1     no  southeast   1725.55230\n",
              "2   28    male  33.000         3     no  southeast   4449.46200\n",
              "3   33    male  22.705         0     no  northwest  21984.47061\n",
              "4   32    male  28.880         0     no  northwest   3866.85520"
            ],
            "text/html": [
              "\n",
              "  <div id=\"df-c8c4fcc1-3a55-47c7-a346-0252f6c2d896\" class=\"colab-df-container\">\n",
              "    <div>\n",
              "<style scoped>\n",
              "    .dataframe tbody tr th:only-of-type {\n",
              "        vertical-align: middle;\n",
              "    }\n",
              "\n",
              "    .dataframe tbody tr th {\n",
              "        vertical-align: top;\n",
              "    }\n",
              "\n",
              "    .dataframe thead th {\n",
              "        text-align: right;\n",
              "    }\n",
              "</style>\n",
              "<table border=\"1\" class=\"dataframe\">\n",
              "  <thead>\n",
              "    <tr style=\"text-align: right;\">\n",
              "      <th></th>\n",
              "      <th>age</th>\n",
              "      <th>sex</th>\n",
              "      <th>bmi</th>\n",
              "      <th>children</th>\n",
              "      <th>smoker</th>\n",
              "      <th>region</th>\n",
              "      <th>charges</th>\n",
              "    </tr>\n",
              "  </thead>\n",
              "  <tbody>\n",
              "    <tr>\n",
              "      <th>0</th>\n",
              "      <td>19</td>\n",
              "      <td>female</td>\n",
              "      <td>27.900</td>\n",
              "      <td>0</td>\n",
              "      <td>yes</td>\n",
              "      <td>southwest</td>\n",
              "      <td>16884.92400</td>\n",
              "    </tr>\n",
              "    <tr>\n",
              "      <th>1</th>\n",
              "      <td>18</td>\n",
              "      <td>male</td>\n",
              "      <td>33.770</td>\n",
              "      <td>1</td>\n",
              "      <td>no</td>\n",
              "      <td>southeast</td>\n",
              "      <td>1725.55230</td>\n",
              "    </tr>\n",
              "    <tr>\n",
              "      <th>2</th>\n",
              "      <td>28</td>\n",
              "      <td>male</td>\n",
              "      <td>33.000</td>\n",
              "      <td>3</td>\n",
              "      <td>no</td>\n",
              "      <td>southeast</td>\n",
              "      <td>4449.46200</td>\n",
              "    </tr>\n",
              "    <tr>\n",
              "      <th>3</th>\n",
              "      <td>33</td>\n",
              "      <td>male</td>\n",
              "      <td>22.705</td>\n",
              "      <td>0</td>\n",
              "      <td>no</td>\n",
              "      <td>northwest</td>\n",
              "      <td>21984.47061</td>\n",
              "    </tr>\n",
              "    <tr>\n",
              "      <th>4</th>\n",
              "      <td>32</td>\n",
              "      <td>male</td>\n",
              "      <td>28.880</td>\n",
              "      <td>0</td>\n",
              "      <td>no</td>\n",
              "      <td>northwest</td>\n",
              "      <td>3866.85520</td>\n",
              "    </tr>\n",
              "  </tbody>\n",
              "</table>\n",
              "</div>\n",
              "    <div class=\"colab-df-buttons\">\n",
              "\n",
              "  <div class=\"colab-df-container\">\n",
              "    <button class=\"colab-df-convert\" onclick=\"convertToInteractive('df-c8c4fcc1-3a55-47c7-a346-0252f6c2d896')\"\n",
              "            title=\"Convert this dataframe to an interactive table.\"\n",
              "            style=\"display:none;\">\n",
              "\n",
              "  <svg xmlns=\"http://www.w3.org/2000/svg\" height=\"24px\" viewBox=\"0 -960 960 960\">\n",
              "    <path d=\"M120-120v-720h720v720H120Zm60-500h600v-160H180v160Zm220 220h160v-160H400v160Zm0 220h160v-160H400v160ZM180-400h160v-160H180v160Zm440 0h160v-160H620v160ZM180-180h160v-160H180v160Zm440 0h160v-160H620v160Z\"/>\n",
              "  </svg>\n",
              "    </button>\n",
              "\n",
              "  <style>\n",
              "    .colab-df-container {\n",
              "      display:flex;\n",
              "      gap: 12px;\n",
              "    }\n",
              "\n",
              "    .colab-df-convert {\n",
              "      background-color: #E8F0FE;\n",
              "      border: none;\n",
              "      border-radius: 50%;\n",
              "      cursor: pointer;\n",
              "      display: none;\n",
              "      fill: #1967D2;\n",
              "      height: 32px;\n",
              "      padding: 0 0 0 0;\n",
              "      width: 32px;\n",
              "    }\n",
              "\n",
              "    .colab-df-convert:hover {\n",
              "      background-color: #E2EBFA;\n",
              "      box-shadow: 0px 1px 2px rgba(60, 64, 67, 0.3), 0px 1px 3px 1px rgba(60, 64, 67, 0.15);\n",
              "      fill: #174EA6;\n",
              "    }\n",
              "\n",
              "    .colab-df-buttons div {\n",
              "      margin-bottom: 4px;\n",
              "    }\n",
              "\n",
              "    [theme=dark] .colab-df-convert {\n",
              "      background-color: #3B4455;\n",
              "      fill: #D2E3FC;\n",
              "    }\n",
              "\n",
              "    [theme=dark] .colab-df-convert:hover {\n",
              "      background-color: #434B5C;\n",
              "      box-shadow: 0px 1px 3px 1px rgba(0, 0, 0, 0.15);\n",
              "      filter: drop-shadow(0px 1px 2px rgba(0, 0, 0, 0.3));\n",
              "      fill: #FFFFFF;\n",
              "    }\n",
              "  </style>\n",
              "\n",
              "    <script>\n",
              "      const buttonEl =\n",
              "        document.querySelector('#df-c8c4fcc1-3a55-47c7-a346-0252f6c2d896 button.colab-df-convert');\n",
              "      buttonEl.style.display =\n",
              "        google.colab.kernel.accessAllowed ? 'block' : 'none';\n",
              "\n",
              "      async function convertToInteractive(key) {\n",
              "        const element = document.querySelector('#df-c8c4fcc1-3a55-47c7-a346-0252f6c2d896');\n",
              "        const dataTable =\n",
              "          await google.colab.kernel.invokeFunction('convertToInteractive',\n",
              "                                                    [key], {});\n",
              "        if (!dataTable) return;\n",
              "\n",
              "        const docLinkHtml = 'Like what you see? Visit the ' +\n",
              "          '<a target=\"_blank\" href=https://colab.research.google.com/notebooks/data_table.ipynb>data table notebook</a>'\n",
              "          + ' to learn more about interactive tables.';\n",
              "        element.innerHTML = '';\n",
              "        dataTable['output_type'] = 'display_data';\n",
              "        await google.colab.output.renderOutput(dataTable, element);\n",
              "        const docLink = document.createElement('div');\n",
              "        docLink.innerHTML = docLinkHtml;\n",
              "        element.appendChild(docLink);\n",
              "      }\n",
              "    </script>\n",
              "  </div>\n",
              "\n",
              "\n",
              "<div id=\"df-59ede94b-6b5c-4cb1-b290-337fcc99425a\">\n",
              "  <button class=\"colab-df-quickchart\" onclick=\"quickchart('df-59ede94b-6b5c-4cb1-b290-337fcc99425a')\"\n",
              "            title=\"Suggest charts.\"\n",
              "            style=\"display:none;\">\n",
              "\n",
              "<svg xmlns=\"http://www.w3.org/2000/svg\" height=\"24px\"viewBox=\"0 0 24 24\"\n",
              "     width=\"24px\">\n",
              "    <g>\n",
              "        <path d=\"M19 3H5c-1.1 0-2 .9-2 2v14c0 1.1.9 2 2 2h14c1.1 0 2-.9 2-2V5c0-1.1-.9-2-2-2zM9 17H7v-7h2v7zm4 0h-2V7h2v10zm4 0h-2v-4h2v4z\"/>\n",
              "    </g>\n",
              "</svg>\n",
              "  </button>\n",
              "\n",
              "<style>\n",
              "  .colab-df-quickchart {\n",
              "      --bg-color: #E8F0FE;\n",
              "      --fill-color: #1967D2;\n",
              "      --hover-bg-color: #E2EBFA;\n",
              "      --hover-fill-color: #174EA6;\n",
              "      --disabled-fill-color: #AAA;\n",
              "      --disabled-bg-color: #DDD;\n",
              "  }\n",
              "\n",
              "  [theme=dark] .colab-df-quickchart {\n",
              "      --bg-color: #3B4455;\n",
              "      --fill-color: #D2E3FC;\n",
              "      --hover-bg-color: #434B5C;\n",
              "      --hover-fill-color: #FFFFFF;\n",
              "      --disabled-bg-color: #3B4455;\n",
              "      --disabled-fill-color: #666;\n",
              "  }\n",
              "\n",
              "  .colab-df-quickchart {\n",
              "    background-color: var(--bg-color);\n",
              "    border: none;\n",
              "    border-radius: 50%;\n",
              "    cursor: pointer;\n",
              "    display: none;\n",
              "    fill: var(--fill-color);\n",
              "    height: 32px;\n",
              "    padding: 0;\n",
              "    width: 32px;\n",
              "  }\n",
              "\n",
              "  .colab-df-quickchart:hover {\n",
              "    background-color: var(--hover-bg-color);\n",
              "    box-shadow: 0 1px 2px rgba(60, 64, 67, 0.3), 0 1px 3px 1px rgba(60, 64, 67, 0.15);\n",
              "    fill: var(--button-hover-fill-color);\n",
              "  }\n",
              "\n",
              "  .colab-df-quickchart-complete:disabled,\n",
              "  .colab-df-quickchart-complete:disabled:hover {\n",
              "    background-color: var(--disabled-bg-color);\n",
              "    fill: var(--disabled-fill-color);\n",
              "    box-shadow: none;\n",
              "  }\n",
              "\n",
              "  .colab-df-spinner {\n",
              "    border: 2px solid var(--fill-color);\n",
              "    border-color: transparent;\n",
              "    border-bottom-color: var(--fill-color);\n",
              "    animation:\n",
              "      spin 1s steps(1) infinite;\n",
              "  }\n",
              "\n",
              "  @keyframes spin {\n",
              "    0% {\n",
              "      border-color: transparent;\n",
              "      border-bottom-color: var(--fill-color);\n",
              "      border-left-color: var(--fill-color);\n",
              "    }\n",
              "    20% {\n",
              "      border-color: transparent;\n",
              "      border-left-color: var(--fill-color);\n",
              "      border-top-color: var(--fill-color);\n",
              "    }\n",
              "    30% {\n",
              "      border-color: transparent;\n",
              "      border-left-color: var(--fill-color);\n",
              "      border-top-color: var(--fill-color);\n",
              "      border-right-color: var(--fill-color);\n",
              "    }\n",
              "    40% {\n",
              "      border-color: transparent;\n",
              "      border-right-color: var(--fill-color);\n",
              "      border-top-color: var(--fill-color);\n",
              "    }\n",
              "    60% {\n",
              "      border-color: transparent;\n",
              "      border-right-color: var(--fill-color);\n",
              "    }\n",
              "    80% {\n",
              "      border-color: transparent;\n",
              "      border-right-color: var(--fill-color);\n",
              "      border-bottom-color: var(--fill-color);\n",
              "    }\n",
              "    90% {\n",
              "      border-color: transparent;\n",
              "      border-bottom-color: var(--fill-color);\n",
              "    }\n",
              "  }\n",
              "</style>\n",
              "\n",
              "  <script>\n",
              "    async function quickchart(key) {\n",
              "      const quickchartButtonEl =\n",
              "        document.querySelector('#' + key + ' button');\n",
              "      quickchartButtonEl.disabled = true;  // To prevent multiple clicks.\n",
              "      quickchartButtonEl.classList.add('colab-df-spinner');\n",
              "      try {\n",
              "        const charts = await google.colab.kernel.invokeFunction(\n",
              "            'suggestCharts', [key], {});\n",
              "      } catch (error) {\n",
              "        console.error('Error during call to suggestCharts:', error);\n",
              "      }\n",
              "      quickchartButtonEl.classList.remove('colab-df-spinner');\n",
              "      quickchartButtonEl.classList.add('colab-df-quickchart-complete');\n",
              "    }\n",
              "    (() => {\n",
              "      let quickchartButtonEl =\n",
              "        document.querySelector('#df-59ede94b-6b5c-4cb1-b290-337fcc99425a button');\n",
              "      quickchartButtonEl.style.display =\n",
              "        google.colab.kernel.accessAllowed ? 'block' : 'none';\n",
              "    })();\n",
              "  </script>\n",
              "</div>\n",
              "    </div>\n",
              "  </div>\n"
            ]
          },
          "metadata": {},
          "execution_count": 5
        }
      ]
    },
    {
      "cell_type": "code",
      "source": [
        "X = df.drop('charges', axis=1)\n",
        "y = df['charges']"
      ],
      "metadata": {
        "id": "CIQJdD8J4l63"
      },
      "execution_count": 9,
      "outputs": []
    },
    {
      "cell_type": "code",
      "source": [
        "X_train, X_test, y_train, y_test = train_test_split(X,\n",
        "                                                    y,\n",
        "                                                    test_size=0.2,\n",
        "                                                    shuffle=True)"
      ],
      "metadata": {
        "id": "_LOQhxGe49Pc"
      },
      "execution_count": 10,
      "outputs": []
    },
    {
      "cell_type": "code",
      "source": [
        "ct = make_column_transformer(\n",
        "    [MinMaxScaler(), ['age', 'bmi', 'children']],\n",
        "    [OneHotEncoder(handle_unknown='ignore'), ['sex', 'smoker', 'region']]\n",
        ")"
      ],
      "metadata": {
        "id": "cdoqm4KS3T60"
      },
      "execution_count": 7,
      "outputs": []
    },
    {
      "cell_type": "code",
      "source": [
        "ct"
      ],
      "metadata": {
        "colab": {
          "base_uri": "https://localhost:8080/",
          "height": 118
        },
        "id": "TigWzufX5zl-",
        "outputId": "b23738e8-2f1f-44fc-f49c-066c25f3d767"
      },
      "execution_count": 12,
      "outputs": [
        {
          "output_type": "execute_result",
          "data": {
            "text/plain": [
              "ColumnTransformer(transformers=[('minmaxscaler', MinMaxScaler(),\n",
              "                                 ['age', 'bmi', 'children']),\n",
              "                                ('onehotencoder',\n",
              "                                 OneHotEncoder(handle_unknown='ignore'),\n",
              "                                 ['sex', 'smoker', 'region'])])"
            ],
            "text/html": [
              "<style>#sk-container-id-1 {color: black;background-color: white;}#sk-container-id-1 pre{padding: 0;}#sk-container-id-1 div.sk-toggleable {background-color: white;}#sk-container-id-1 label.sk-toggleable__label {cursor: pointer;display: block;width: 100%;margin-bottom: 0;padding: 0.3em;box-sizing: border-box;text-align: center;}#sk-container-id-1 label.sk-toggleable__label-arrow:before {content: \"▸\";float: left;margin-right: 0.25em;color: #696969;}#sk-container-id-1 label.sk-toggleable__label-arrow:hover:before {color: black;}#sk-container-id-1 div.sk-estimator:hover label.sk-toggleable__label-arrow:before {color: black;}#sk-container-id-1 div.sk-toggleable__content {max-height: 0;max-width: 0;overflow: hidden;text-align: left;background-color: #f0f8ff;}#sk-container-id-1 div.sk-toggleable__content pre {margin: 0.2em;color: black;border-radius: 0.25em;background-color: #f0f8ff;}#sk-container-id-1 input.sk-toggleable__control:checked~div.sk-toggleable__content {max-height: 200px;max-width: 100%;overflow: auto;}#sk-container-id-1 input.sk-toggleable__control:checked~label.sk-toggleable__label-arrow:before {content: \"▾\";}#sk-container-id-1 div.sk-estimator input.sk-toggleable__control:checked~label.sk-toggleable__label {background-color: #d4ebff;}#sk-container-id-1 div.sk-label input.sk-toggleable__control:checked~label.sk-toggleable__label {background-color: #d4ebff;}#sk-container-id-1 input.sk-hidden--visually {border: 0;clip: rect(1px 1px 1px 1px);clip: rect(1px, 1px, 1px, 1px);height: 1px;margin: -1px;overflow: hidden;padding: 0;position: absolute;width: 1px;}#sk-container-id-1 div.sk-estimator {font-family: monospace;background-color: #f0f8ff;border: 1px dotted black;border-radius: 0.25em;box-sizing: border-box;margin-bottom: 0.5em;}#sk-container-id-1 div.sk-estimator:hover {background-color: #d4ebff;}#sk-container-id-1 div.sk-parallel-item::after {content: \"\";width: 100%;border-bottom: 1px solid gray;flex-grow: 1;}#sk-container-id-1 div.sk-label:hover label.sk-toggleable__label {background-color: #d4ebff;}#sk-container-id-1 div.sk-serial::before {content: \"\";position: absolute;border-left: 1px solid gray;box-sizing: border-box;top: 0;bottom: 0;left: 50%;z-index: 0;}#sk-container-id-1 div.sk-serial {display: flex;flex-direction: column;align-items: center;background-color: white;padding-right: 0.2em;padding-left: 0.2em;position: relative;}#sk-container-id-1 div.sk-item {position: relative;z-index: 1;}#sk-container-id-1 div.sk-parallel {display: flex;align-items: stretch;justify-content: center;background-color: white;position: relative;}#sk-container-id-1 div.sk-item::before, #sk-container-id-1 div.sk-parallel-item::before {content: \"\";position: absolute;border-left: 1px solid gray;box-sizing: border-box;top: 0;bottom: 0;left: 50%;z-index: -1;}#sk-container-id-1 div.sk-parallel-item {display: flex;flex-direction: column;z-index: 1;position: relative;background-color: white;}#sk-container-id-1 div.sk-parallel-item:first-child::after {align-self: flex-end;width: 50%;}#sk-container-id-1 div.sk-parallel-item:last-child::after {align-self: flex-start;width: 50%;}#sk-container-id-1 div.sk-parallel-item:only-child::after {width: 0;}#sk-container-id-1 div.sk-dashed-wrapped {border: 1px dashed gray;margin: 0 0.4em 0.5em 0.4em;box-sizing: border-box;padding-bottom: 0.4em;background-color: white;}#sk-container-id-1 div.sk-label label {font-family: monospace;font-weight: bold;display: inline-block;line-height: 1.2em;}#sk-container-id-1 div.sk-label-container {text-align: center;}#sk-container-id-1 div.sk-container {/* jupyter's `normalize.less` sets `[hidden] { display: none; }` but bootstrap.min.css set `[hidden] { display: none !important; }` so we also need the `!important` here to be able to override the default hidden behavior on the sphinx rendered scikit-learn.org. See: https://github.com/scikit-learn/scikit-learn/issues/21755 */display: inline-block !important;position: relative;}#sk-container-id-1 div.sk-text-repr-fallback {display: none;}</style><div id=\"sk-container-id-1\" class=\"sk-top-container\"><div class=\"sk-text-repr-fallback\"><pre>ColumnTransformer(transformers=[(&#x27;minmaxscaler&#x27;, MinMaxScaler(),\n",
              "                                 [&#x27;age&#x27;, &#x27;bmi&#x27;, &#x27;children&#x27;]),\n",
              "                                (&#x27;onehotencoder&#x27;,\n",
              "                                 OneHotEncoder(handle_unknown=&#x27;ignore&#x27;),\n",
              "                                 [&#x27;sex&#x27;, &#x27;smoker&#x27;, &#x27;region&#x27;])])</pre><b>In a Jupyter environment, please rerun this cell to show the HTML representation or trust the notebook. <br />On GitHub, the HTML representation is unable to render, please try loading this page with nbviewer.org.</b></div><div class=\"sk-container\" hidden><div class=\"sk-item sk-dashed-wrapped\"><div class=\"sk-label-container\"><div class=\"sk-label sk-toggleable\"><input class=\"sk-toggleable__control sk-hidden--visually\" id=\"sk-estimator-id-1\" type=\"checkbox\" ><label for=\"sk-estimator-id-1\" class=\"sk-toggleable__label sk-toggleable__label-arrow\">ColumnTransformer</label><div class=\"sk-toggleable__content\"><pre>ColumnTransformer(transformers=[(&#x27;minmaxscaler&#x27;, MinMaxScaler(),\n",
              "                                 [&#x27;age&#x27;, &#x27;bmi&#x27;, &#x27;children&#x27;]),\n",
              "                                (&#x27;onehotencoder&#x27;,\n",
              "                                 OneHotEncoder(handle_unknown=&#x27;ignore&#x27;),\n",
              "                                 [&#x27;sex&#x27;, &#x27;smoker&#x27;, &#x27;region&#x27;])])</pre></div></div></div><div class=\"sk-parallel\"><div class=\"sk-parallel-item\"><div class=\"sk-item\"><div class=\"sk-label-container\"><div class=\"sk-label sk-toggleable\"><input class=\"sk-toggleable__control sk-hidden--visually\" id=\"sk-estimator-id-2\" type=\"checkbox\" ><label for=\"sk-estimator-id-2\" class=\"sk-toggleable__label sk-toggleable__label-arrow\">minmaxscaler</label><div class=\"sk-toggleable__content\"><pre>[&#x27;age&#x27;, &#x27;bmi&#x27;, &#x27;children&#x27;]</pre></div></div></div><div class=\"sk-serial\"><div class=\"sk-item\"><div class=\"sk-estimator sk-toggleable\"><input class=\"sk-toggleable__control sk-hidden--visually\" id=\"sk-estimator-id-3\" type=\"checkbox\" ><label for=\"sk-estimator-id-3\" class=\"sk-toggleable__label sk-toggleable__label-arrow\">MinMaxScaler</label><div class=\"sk-toggleable__content\"><pre>MinMaxScaler()</pre></div></div></div></div></div></div><div class=\"sk-parallel-item\"><div class=\"sk-item\"><div class=\"sk-label-container\"><div class=\"sk-label sk-toggleable\"><input class=\"sk-toggleable__control sk-hidden--visually\" id=\"sk-estimator-id-4\" type=\"checkbox\" ><label for=\"sk-estimator-id-4\" class=\"sk-toggleable__label sk-toggleable__label-arrow\">onehotencoder</label><div class=\"sk-toggleable__content\"><pre>[&#x27;sex&#x27;, &#x27;smoker&#x27;, &#x27;region&#x27;]</pre></div></div></div><div class=\"sk-serial\"><div class=\"sk-item\"><div class=\"sk-estimator sk-toggleable\"><input class=\"sk-toggleable__control sk-hidden--visually\" id=\"sk-estimator-id-5\" type=\"checkbox\" ><label for=\"sk-estimator-id-5\" class=\"sk-toggleable__label sk-toggleable__label-arrow\">OneHotEncoder</label><div class=\"sk-toggleable__content\"><pre>OneHotEncoder(handle_unknown=&#x27;ignore&#x27;)</pre></div></div></div></div></div></div></div></div></div></div>"
            ]
          },
          "metadata": {},
          "execution_count": 12
        }
      ]
    },
    {
      "cell_type": "code",
      "source": [
        "ct.fit(X_train)\n",
        "\n",
        "X_train = ct.transform(X_train)\n",
        "X_test  = ct.transform(X_test)"
      ],
      "metadata": {
        "id": "y_OVYLr15h6R"
      },
      "execution_count": 11,
      "outputs": []
    },
    {
      "cell_type": "code",
      "source": [
        "model1 = tf.keras.Sequential([\n",
        "    tf.keras.layers.Dense(units=128, activation='relu'),\n",
        "    tf.keras.layers.Dense(units=1)\n",
        "])\n",
        "\n",
        "model1.compile(\n",
        "    loss=tf.keras.losses.Huber(),\n",
        "    optimizer=tf.keras.optimizers.Adam(learning_rate=0.05),\n",
        "    metrics=['mae', 'mse']\n",
        ")\n",
        "\n",
        "history1 = model1.fit(\n",
        "    x=X_train,\n",
        "    y=y_train,\n",
        "    validation_data=[X_test, y_test],\n",
        "    epochs=30\n",
        ")\n",
        "\n",
        "plt.plot(history1.history['loss'], label='train loss')\n",
        "plt.plot(history1.history['val_loss'], label='test loss')\n",
        "plt.xlabel('epochs')\n",
        "plt.ylabel('loss')"
      ],
      "metadata": {
        "colab": {
          "base_uri": "https://localhost:8080/"
        },
        "id": "_eM-zNsP55Yx",
        "outputId": "9bfd040e-230f-4030-d395-53314384c137"
      },
      "execution_count": 29,
      "outputs": [
        {
          "output_type": "stream",
          "name": "stdout",
          "text": [
            "Epoch 1/30\n",
            "34/34 [==============================] - 2s 19ms/step - loss: 12995.0088 - mae: 12995.5088 - mse: 318229632.0000 - val_loss: 11810.5693 - val_mae: 11811.0693 - val_mse: 274182496.0000\n",
            "Epoch 2/30\n",
            "34/34 [==============================] - 0s 6ms/step - loss: 10501.4453 - mae: 10501.9453 - mse: 252608752.0000 - val_loss: 8549.9814 - val_mae: 8550.4814 - val_mse: 185368320.0000\n",
            "Epoch 3/30\n",
            "34/34 [==============================] - 0s 7ms/step - loss: 8179.0244 - mae: 8179.5244 - mse: 172508416.0000 - val_loss: 7676.9019 - val_mae: 7677.4019 - val_mse: 138242080.0000\n",
            "Epoch 4/30\n",
            "34/34 [==============================] - 0s 5ms/step - loss: 7667.9941 - mae: 7668.4941 - mse: 147219248.0000 - val_loss: 7264.5469 - val_mae: 7265.0469 - val_mse: 126154432.0000\n",
            "Epoch 5/30\n",
            "34/34 [==============================] - 0s 6ms/step - loss: 7252.0444 - mae: 7252.5444 - mse: 132765144.0000 - val_loss: 6762.0366 - val_mae: 6762.5366 - val_mse: 109543240.0000\n",
            "Epoch 6/30\n",
            "34/34 [==============================] - 0s 7ms/step - loss: 6715.1470 - mae: 6715.6470 - mse: 117435664.0000 - val_loss: 6131.0537 - val_mae: 6131.5537 - val_mse: 94550728.0000\n",
            "Epoch 7/30\n",
            "34/34 [==============================] - 0s 8ms/step - loss: 6028.4985 - mae: 6028.9985 - mse: 98402128.0000 - val_loss: 5299.3125 - val_mae: 5299.8125 - val_mse: 76640480.0000\n",
            "Epoch 8/30\n",
            "34/34 [==============================] - 0s 8ms/step - loss: 5161.9790 - mae: 5162.4790 - mse: 80790720.0000 - val_loss: 4291.8711 - val_mae: 4292.3711 - val_mse: 60747144.0000\n",
            "Epoch 9/30\n",
            "34/34 [==============================] - 0s 4ms/step - loss: 4296.7510 - mae: 4297.2510 - mse: 64103664.0000 - val_loss: 3640.0210 - val_mae: 3640.5210 - val_mse: 49124024.0000\n",
            "Epoch 10/30\n",
            "34/34 [==============================] - 0s 4ms/step - loss: 3815.5623 - mae: 3816.0618 - mse: 54806788.0000 - val_loss: 3465.5823 - val_mae: 3466.0823 - val_mse: 42720560.0000\n",
            "Epoch 11/30\n",
            "34/34 [==============================] - 0s 4ms/step - loss: 3701.2449 - mae: 3701.7449 - mse: 49320960.0000 - val_loss: 3414.6853 - val_mae: 3415.1846 - val_mse: 41383572.0000\n",
            "Epoch 12/30\n",
            "34/34 [==============================] - 0s 3ms/step - loss: 3646.0732 - mae: 3646.5730 - mse: 48128376.0000 - val_loss: 3406.5051 - val_mae: 3407.0032 - val_mse: 39994364.0000\n",
            "Epoch 13/30\n",
            "34/34 [==============================] - 0s 3ms/step - loss: 3608.7632 - mae: 3609.2632 - mse: 46104032.0000 - val_loss: 3386.4617 - val_mae: 3386.9617 - val_mse: 39127932.0000\n",
            "Epoch 14/30\n",
            "34/34 [==============================] - 0s 4ms/step - loss: 3572.1851 - mae: 3572.6851 - mse: 44855200.0000 - val_loss: 3394.6648 - val_mae: 3395.1648 - val_mse: 37983704.0000\n",
            "Epoch 15/30\n",
            "34/34 [==============================] - 0s 3ms/step - loss: 3533.7112 - mae: 3534.2107 - mse: 43335860.0000 - val_loss: 3372.9375 - val_mae: 3373.4368 - val_mse: 37846992.0000\n",
            "Epoch 16/30\n",
            "34/34 [==============================] - 0s 4ms/step - loss: 3489.0049 - mae: 3489.5044 - mse: 42459192.0000 - val_loss: 3366.5254 - val_mae: 3367.0254 - val_mse: 37673556.0000\n",
            "Epoch 17/30\n",
            "34/34 [==============================] - 0s 3ms/step - loss: 3444.3687 - mae: 3444.8684 - mse: 42023568.0000 - val_loss: 3368.3013 - val_mae: 3368.8013 - val_mse: 38020444.0000\n",
            "Epoch 18/30\n",
            "34/34 [==============================] - 0s 3ms/step - loss: 3429.8855 - mae: 3430.3855 - mse: 41881420.0000 - val_loss: 3368.0093 - val_mae: 3368.5093 - val_mse: 38356712.0000\n",
            "Epoch 19/30\n",
            "34/34 [==============================] - 0s 3ms/step - loss: 3376.3101 - mae: 3376.8101 - mse: 41763376.0000 - val_loss: 3345.0415 - val_mae: 3345.5415 - val_mse: 39508240.0000\n",
            "Epoch 20/30\n",
            "34/34 [==============================] - 0s 4ms/step - loss: 3344.5403 - mae: 3345.0400 - mse: 42589092.0000 - val_loss: 3352.7888 - val_mae: 3353.2888 - val_mse: 41550160.0000\n",
            "Epoch 21/30\n",
            "34/34 [==============================] - 0s 4ms/step - loss: 3320.2156 - mae: 3320.7156 - mse: 43141180.0000 - val_loss: 3334.0244 - val_mae: 3334.5244 - val_mse: 42809372.0000\n",
            "Epoch 22/30\n",
            "34/34 [==============================] - 0s 4ms/step - loss: 3294.5879 - mae: 3295.0879 - mse: 45246620.0000 - val_loss: 3326.6763 - val_mae: 3327.1746 - val_mse: 45994372.0000\n",
            "Epoch 23/30\n",
            "34/34 [==============================] - 0s 4ms/step - loss: 3266.6472 - mae: 3267.1470 - mse: 46787272.0000 - val_loss: 3328.0505 - val_mae: 3328.5500 - val_mse: 47822256.0000\n",
            "Epoch 24/30\n",
            "34/34 [==============================] - 0s 3ms/step - loss: 3257.1494 - mae: 3257.6494 - mse: 47484288.0000 - val_loss: 3301.6472 - val_mae: 3302.1453 - val_mse: 48325792.0000\n",
            "Epoch 25/30\n",
            "34/34 [==============================] - 0s 4ms/step - loss: 3230.2485 - mae: 3230.7485 - mse: 47578652.0000 - val_loss: 3290.0193 - val_mae: 3290.5188 - val_mse: 48134768.0000\n",
            "Epoch 26/30\n",
            "34/34 [==============================] - 0s 4ms/step - loss: 3215.9658 - mae: 3216.4653 - mse: 47694016.0000 - val_loss: 3286.1409 - val_mae: 3286.6392 - val_mse: 48202400.0000\n",
            "Epoch 27/30\n",
            "34/34 [==============================] - 0s 5ms/step - loss: 3219.4165 - mae: 3219.9165 - mse: 48568912.0000 - val_loss: 3270.6484 - val_mae: 3271.1484 - val_mse: 49152556.0000\n",
            "Epoch 28/30\n",
            "34/34 [==============================] - 0s 6ms/step - loss: 3196.7317 - mae: 3197.2317 - mse: 48346348.0000 - val_loss: 3264.7261 - val_mae: 3265.2261 - val_mse: 48026164.0000\n",
            "Epoch 29/30\n",
            "34/34 [==============================] - 0s 7ms/step - loss: 3197.0371 - mae: 3197.5364 - mse: 47322744.0000 - val_loss: 3260.0205 - val_mae: 3260.5205 - val_mse: 48052332.0000\n",
            "Epoch 30/30\n",
            "34/34 [==============================] - 0s 6ms/step - loss: 3181.7708 - mae: 3182.2703 - mse: 47583176.0000 - val_loss: 3249.9402 - val_mae: 3250.4402 - val_mse: 48372212.0000\n"
          ]
        }
      ]
    },
    {
      "cell_type": "code",
      "source": [
        "model1 = tf.keras.Sequential([\n",
        "    tf.keras.layers.Dense(units=128, activation='relu'),\n",
        "    tf.keras.layers.Dense(units=32, activation='relu'),\n",
        "    tf.keras.layers.Dense(units=1)\n",
        "])\n",
        "\n",
        "model1.compile(\n",
        "    loss=tf.keras.losses.Huber(),\n",
        "    optimizer=tf.keras.optimizers.Adam(learning_rate=0.05),\n",
        "    metrics=['mae', 'mse']\n",
        ")\n",
        "\n",
        "history1 = model1.fit(\n",
        "    x=X_train,\n",
        "    y=y_train,\n",
        "    validation_data=[X_test, y_test],\n",
        "    epochs=30\n",
        ")\n",
        "\n",
        "plt.plot(history1.history['loss'], label='train loss')\n",
        "plt.plot(history1.history['val_loss'], label='test loss')\n",
        "plt.xlabel('epochs')\n",
        "plt.ylabel('loss')"
      ],
      "metadata": {
        "colab": {
          "base_uri": "https://localhost:8080/",
          "height": 1000
        },
        "id": "6kN8OB9k8TCZ",
        "outputId": "82759f82-1724-4c27-af6d-1c9e97b651a6"
      },
      "execution_count": 30,
      "outputs": [
        {
          "output_type": "stream",
          "name": "stdout",
          "text": [
            "Epoch 1/30\n",
            "34/34 [==============================] - 3s 14ms/step - loss: 10536.5977 - mae: 10537.0977 - mse: 240027632.0000 - val_loss: 7423.6685 - val_mae: 7424.1685 - val_mse: 133528288.0000\n",
            "Epoch 2/30\n",
            "34/34 [==============================] - 0s 4ms/step - loss: 6444.3149 - mae: 6444.8145 - mse: 112965296.0000 - val_loss: 4026.0752 - val_mae: 4026.5752 - val_mse: 58793164.0000\n",
            "Epoch 3/30\n",
            "34/34 [==============================] - 0s 3ms/step - loss: 3656.2717 - mae: 3656.7717 - mse: 46501228.0000 - val_loss: 3483.6855 - val_mae: 3484.1853 - val_mse: 43971564.0000\n",
            "Epoch 4/30\n",
            "34/34 [==============================] - 0s 3ms/step - loss: 3357.2036 - mae: 3357.7029 - mse: 46618292.0000 - val_loss: 3288.1379 - val_mae: 3288.6379 - val_mse: 44002264.0000\n",
            "Epoch 5/30\n",
            "34/34 [==============================] - 0s 4ms/step - loss: 3314.8215 - mae: 3315.3215 - mse: 46615740.0000 - val_loss: 3310.3508 - val_mae: 3310.8508 - val_mse: 45661512.0000\n",
            "Epoch 6/30\n",
            "34/34 [==============================] - 0s 4ms/step - loss: 3282.9019 - mae: 3283.4014 - mse: 46529696.0000 - val_loss: 3231.7004 - val_mae: 3232.2004 - val_mse: 45322328.0000\n",
            "Epoch 7/30\n",
            "34/34 [==============================] - 0s 3ms/step - loss: 3142.1641 - mae: 3142.6638 - mse: 45232028.0000 - val_loss: 3192.1016 - val_mae: 3192.6011 - val_mse: 44432596.0000\n",
            "Epoch 8/30\n",
            "34/34 [==============================] - 0s 4ms/step - loss: 3105.9648 - mae: 3106.4646 - mse: 44614764.0000 - val_loss: 3148.0869 - val_mae: 3148.5869 - val_mse: 44804012.0000\n",
            "Epoch 9/30\n",
            "34/34 [==============================] - 0s 4ms/step - loss: 3075.0659 - mae: 3075.5659 - mse: 43943660.0000 - val_loss: 3054.5510 - val_mae: 3055.0510 - val_mse: 43256776.0000\n",
            "Epoch 10/30\n",
            "34/34 [==============================] - 0s 4ms/step - loss: 3050.9761 - mae: 3051.4749 - mse: 42675640.0000 - val_loss: 2995.2039 - val_mae: 2995.7039 - val_mse: 41656936.0000\n",
            "Epoch 11/30\n",
            "34/34 [==============================] - 0s 3ms/step - loss: 3012.4172 - mae: 3012.9172 - mse: 40260464.0000 - val_loss: 2976.8811 - val_mae: 2977.3811 - val_mse: 39938196.0000\n",
            "Epoch 12/30\n",
            "34/34 [==============================] - 0s 4ms/step - loss: 2937.1157 - mae: 2937.6155 - mse: 39791276.0000 - val_loss: 2859.8447 - val_mae: 2860.3423 - val_mse: 35839384.0000\n",
            "Epoch 13/30\n",
            "34/34 [==============================] - 0s 4ms/step - loss: 2899.3638 - mae: 2899.8633 - mse: 37580264.0000 - val_loss: 2878.1782 - val_mae: 2878.6775 - val_mse: 31725674.0000\n",
            "Epoch 14/30\n",
            "34/34 [==============================] - 0s 4ms/step - loss: 2794.7598 - mae: 2795.2585 - mse: 35466564.0000 - val_loss: 2742.3411 - val_mae: 2742.8406 - val_mse: 35194148.0000\n",
            "Epoch 15/30\n",
            "34/34 [==============================] - 0s 4ms/step - loss: 2736.8188 - mae: 2737.3184 - mse: 33903596.0000 - val_loss: 2716.9246 - val_mae: 2717.4233 - val_mse: 32142110.0000\n",
            "Epoch 16/30\n",
            "34/34 [==============================] - 0s 4ms/step - loss: 2599.7351 - mae: 2600.2349 - mse: 32227168.0000 - val_loss: 2506.7104 - val_mae: 2507.2104 - val_mse: 29226250.0000\n",
            "Epoch 17/30\n",
            "34/34 [==============================] - 0s 4ms/step - loss: 2474.5769 - mae: 2475.0767 - mse: 30040954.0000 - val_loss: 2385.5171 - val_mae: 2386.0159 - val_mse: 27225408.0000\n",
            "Epoch 18/30\n",
            "34/34 [==============================] - 0s 4ms/step - loss: 2410.0442 - mae: 2410.5432 - mse: 28842112.0000 - val_loss: 2349.3853 - val_mae: 2349.8853 - val_mse: 26763468.0000\n",
            "Epoch 19/30\n",
            "34/34 [==============================] - 0s 4ms/step - loss: 2294.4988 - mae: 2294.9978 - mse: 27537384.0000 - val_loss: 2179.6543 - val_mae: 2180.1543 - val_mse: 24084454.0000\n",
            "Epoch 20/30\n",
            "34/34 [==============================] - 0s 4ms/step - loss: 2245.6802 - mae: 2246.1797 - mse: 27283868.0000 - val_loss: 2177.3184 - val_mae: 2177.8171 - val_mse: 24211990.0000\n",
            "Epoch 21/30\n",
            "34/34 [==============================] - 0s 4ms/step - loss: 2164.9319 - mae: 2165.4312 - mse: 25818056.0000 - val_loss: 2052.5481 - val_mae: 2053.0481 - val_mse: 22787810.0000\n",
            "Epoch 22/30\n",
            "34/34 [==============================] - 0s 4ms/step - loss: 2182.2004 - mae: 2182.7004 - mse: 26229036.0000 - val_loss: 2003.1355 - val_mae: 2003.6355 - val_mse: 22374946.0000\n",
            "Epoch 23/30\n",
            "34/34 [==============================] - 0s 4ms/step - loss: 2145.3484 - mae: 2145.8479 - mse: 25403910.0000 - val_loss: 2038.7465 - val_mae: 2039.2451 - val_mse: 22033486.0000\n",
            "Epoch 24/30\n",
            "34/34 [==============================] - 0s 3ms/step - loss: 2167.3762 - mae: 2167.8752 - mse: 25734242.0000 - val_loss: 2174.2737 - val_mae: 2174.7737 - val_mse: 22242900.0000\n",
            "Epoch 25/30\n",
            "34/34 [==============================] - 0s 4ms/step - loss: 2178.9814 - mae: 2179.4814 - mse: 26586260.0000 - val_loss: 2007.2123 - val_mae: 2007.7108 - val_mse: 22066910.0000\n",
            "Epoch 26/30\n",
            "34/34 [==============================] - 0s 4ms/step - loss: 2137.1597 - mae: 2137.6597 - mse: 25380728.0000 - val_loss: 2052.4143 - val_mae: 2052.9143 - val_mse: 22558714.0000\n",
            "Epoch 27/30\n",
            "34/34 [==============================] - 0s 4ms/step - loss: 2122.5081 - mae: 2123.0073 - mse: 25648058.0000 - val_loss: 1958.0259 - val_mae: 1958.5256 - val_mse: 21342510.0000\n",
            "Epoch 28/30\n",
            "34/34 [==============================] - 0s 4ms/step - loss: 2109.6394 - mae: 2110.1387 - mse: 25582740.0000 - val_loss: 1900.8875 - val_mae: 1901.3865 - val_mse: 20979924.0000\n",
            "Epoch 29/30\n",
            "34/34 [==============================] - 0s 4ms/step - loss: 2097.0376 - mae: 2097.5376 - mse: 25622136.0000 - val_loss: 1943.3711 - val_mae: 1943.8711 - val_mse: 22182166.0000\n",
            "Epoch 30/30\n",
            "34/34 [==============================] - 0s 4ms/step - loss: 2086.7839 - mae: 2087.2834 - mse: 25424562.0000 - val_loss: 1850.4976 - val_mae: 1850.9976 - val_mse: 21375148.0000\n"
          ]
        },
        {
          "output_type": "execute_result",
          "data": {
            "text/plain": [
              "[<matplotlib.lines.Line2D at 0x7ee8bf36a200>]"
            ]
          },
          "metadata": {},
          "execution_count": 30
        },
        {
          "output_type": "display_data",
          "data": {
            "text/plain": [
              "<Figure size 640x480 with 1 Axes>"
            ],
            "image/png": "[encoded data removed]"
          },
          "metadata": {}
        }
      ]
    },
    {
      "cell_type": "code",
      "source": [
        "model1 = tf.keras.Sequential([\n",
        "    tf.keras.layers.Dense(units=512, activation='relu'),\n",
        "    tf.keras.layers.Dense(units=128, activation='relu'),\n",
        "    tf.keras.layers.Dense(units=32,  activation='relu'),\n",
        "    tf.keras.layers.Dense(units=1)\n",
        "])\n",
        "\n",
        "model1.compile(\n",
        "    loss=tf.keras.losses.Huber(),\n",
        "    optimizer=tf.keras.optimizers.Adam(learning_rate=0.05),\n",
        "    metrics=['mae', 'mse']\n",
        ")\n",
        "\n",
        "history1 = model1.fit(\n",
        "    x=X_train,\n",
        "    y=y_train,\n",
        "    validation_data=[X_test, y_test],\n",
        "    epochs=30\n",
        ")\n",
        "\n",
        "plt.plot(history1.history['loss'], label='train loss')\n",
        "plt.plot(history1.history['val_loss'], label='test loss')\n",
        "plt.xlabel('epochs')\n",
        "plt.ylabel('loss')"
      ],
      "metadata": {
        "colab": {
          "base_uri": "https://localhost:8080/",
          "height": 1000
        },
        "id": "lloNU5_o80Wy",
        "outputId": "b54ec79b-bfe4-4968-beed-800ace002792"
      },
      "execution_count": 31,
      "outputs": [
        {
          "output_type": "stream",
          "name": "stdout",
          "text": [
            "Epoch 1/30\n",
            "34/34 [==============================] - 3s 17ms/step - loss: 7056.6558 - mae: 7057.1558 - mse: 133447432.0000 - val_loss: 4004.5076 - val_mae: 4005.0076 - val_mse: 41796664.0000\n",
            "Epoch 2/30\n",
            "34/34 [==============================] - 0s 9ms/step - loss: 3750.4497 - mae: 3750.9495 - mse: 47018308.0000 - val_loss: 3400.1282 - val_mae: 3400.6282 - val_mse: 39065224.0000\n",
            "Epoch 3/30\n",
            "34/34 [==============================] - 0s 10ms/step - loss: 3562.0964 - mae: 3562.5964 - mse: 43535244.0000 - val_loss: 3447.2844 - val_mae: 3447.7844 - val_mse: 36072620.0000\n",
            "Epoch 4/30\n",
            "34/34 [==============================] - 0s 10ms/step - loss: 3336.1521 - mae: 3336.6516 - mse: 39181920.0000 - val_loss: 2948.9001 - val_mae: 2949.4001 - val_mse: 33963964.0000\n",
            "Epoch 5/30\n",
            "34/34 [==============================] - 0s 9ms/step - loss: 3234.6770 - mae: 3235.1770 - mse: 35704176.0000 - val_loss: 2739.2568 - val_mae: 2739.7568 - val_mse: 29839878.0000\n",
            "Epoch 6/30\n",
            "34/34 [==============================] - 0s 10ms/step - loss: 2708.3435 - mae: 2708.8435 - mse: 29859240.0000 - val_loss: 3185.9148 - val_mae: 3186.4148 - val_mse: 22107498.0000\n",
            "Epoch 7/30\n",
            "34/34 [==============================] - 0s 7ms/step - loss: 2754.8298 - mae: 2755.3298 - mse: 30755804.0000 - val_loss: 2331.0095 - val_mae: 2331.5095 - val_mse: 22238436.0000\n",
            "Epoch 8/30\n",
            "34/34 [==============================] - 0s 10ms/step - loss: 2518.7632 - mae: 2519.2632 - mse: 26436740.0000 - val_loss: 2285.7617 - val_mae: 2286.2617 - val_mse: 22485726.0000\n",
            "Epoch 9/30\n",
            "34/34 [==============================] - 0s 10ms/step - loss: 2515.4880 - mae: 2515.9880 - mse: 26587950.0000 - val_loss: 2050.8079 - val_mae: 2051.3079 - val_mse: 21914594.0000\n",
            "Epoch 10/30\n",
            "34/34 [==============================] - 0s 9ms/step - loss: 2331.0354 - mae: 2331.5352 - mse: 26019806.0000 - val_loss: 2312.2871 - val_mae: 2312.7871 - val_mse: 23858156.0000\n",
            "Epoch 11/30\n",
            "34/34 [==============================] - 0s 7ms/step - loss: 2385.4370 - mae: 2385.9370 - mse: 27248140.0000 - val_loss: 2232.7744 - val_mae: 2233.2744 - val_mse: 22579758.0000\n",
            "Epoch 12/30\n",
            "34/34 [==============================] - 0s 6ms/step - loss: 2389.0625 - mae: 2389.5620 - mse: 26729428.0000 - val_loss: 2150.7114 - val_mae: 2151.2114 - val_mse: 20318736.0000\n",
            "Epoch 13/30\n",
            "34/34 [==============================] - 0s 9ms/step - loss: 2243.1250 - mae: 2243.6248 - mse: 25581734.0000 - val_loss: 2249.1172 - val_mae: 2249.6172 - val_mse: 23382950.0000\n",
            "Epoch 14/30\n",
            "34/34 [==============================] - 0s 10ms/step - loss: 2289.5876 - mae: 2290.0874 - mse: 25272310.0000 - val_loss: 2069.8098 - val_mae: 2070.3098 - val_mse: 19441382.0000\n",
            "Epoch 15/30\n",
            "34/34 [==============================] - 0s 10ms/step - loss: 2396.8132 - mae: 2397.3127 - mse: 25841634.0000 - val_loss: 2805.9187 - val_mae: 2806.4187 - val_mse: 21888838.0000\n",
            "Epoch 16/30\n",
            "34/34 [==============================] - 0s 9ms/step - loss: 2577.3315 - mae: 2577.8311 - mse: 27054078.0000 - val_loss: 2744.8831 - val_mae: 2745.3831 - val_mse: 27345592.0000\n",
            "Epoch 17/30\n",
            "34/34 [==============================] - 0s 8ms/step - loss: 2382.2410 - mae: 2382.7410 - mse: 25993174.0000 - val_loss: 2264.4207 - val_mae: 2264.9209 - val_mse: 22273968.0000\n",
            "Epoch 18/30\n",
            "34/34 [==============================] - 0s 8ms/step - loss: 2393.6345 - mae: 2394.1343 - mse: 25684070.0000 - val_loss: 1849.8688 - val_mae: 1850.3688 - val_mse: 20531808.0000\n",
            "Epoch 19/30\n",
            "34/34 [==============================] - 0s 8ms/step - loss: 2243.5901 - mae: 2244.0898 - mse: 25788678.0000 - val_loss: 2195.3418 - val_mae: 2195.8418 - val_mse: 22542074.0000\n",
            "Epoch 20/30\n",
            "34/34 [==============================] - 0s 8ms/step - loss: 2479.4341 - mae: 2479.9341 - mse: 25934648.0000 - val_loss: 2093.1299 - val_mae: 2093.6299 - val_mse: 20258776.0000\n",
            "Epoch 21/30\n",
            "34/34 [==============================] - 0s 8ms/step - loss: 2166.9795 - mae: 2167.4795 - mse: 24442476.0000 - val_loss: 1790.1505 - val_mae: 1790.6497 - val_mse: 20218430.0000\n",
            "Epoch 22/30\n",
            "34/34 [==============================] - 0s 6ms/step - loss: 2256.1506 - mae: 2256.6504 - mse: 25335612.0000 - val_loss: 1884.4854 - val_mae: 1884.9854 - val_mse: 19998896.0000\n",
            "Epoch 23/30\n",
            "34/34 [==============================] - 0s 6ms/step - loss: 2251.0300 - mae: 2251.5295 - mse: 24845640.0000 - val_loss: 2402.9626 - val_mae: 2403.4617 - val_mse: 24701900.0000\n",
            "Epoch 24/30\n",
            "34/34 [==============================] - 0s 6ms/step - loss: 2237.5149 - mae: 2238.0144 - mse: 25415104.0000 - val_loss: 1801.4569 - val_mae: 1801.9569 - val_mse: 19663714.0000\n",
            "Epoch 25/30\n",
            "34/34 [==============================] - 0s 6ms/step - loss: 2309.5940 - mae: 2310.0940 - mse: 26078452.0000 - val_loss: 1816.9333 - val_mae: 1817.4333 - val_mse: 19963074.0000\n",
            "Epoch 26/30\n",
            "34/34 [==============================] - 0s 5ms/step - loss: 2466.3811 - mae: 2466.8811 - mse: 26192652.0000 - val_loss: 2086.1731 - val_mae: 2086.6721 - val_mse: 21859354.0000\n",
            "Epoch 27/30\n",
            "34/34 [==============================] - 0s 5ms/step - loss: 2137.8459 - mae: 2138.3457 - mse: 24898538.0000 - val_loss: 1771.9395 - val_mae: 1772.4390 - val_mse: 20404480.0000\n",
            "Epoch 28/30\n",
            "34/34 [==============================] - 0s 5ms/step - loss: 1986.1388 - mae: 1986.6383 - mse: 24452702.0000 - val_loss: 1805.7640 - val_mae: 1806.2640 - val_mse: 20177618.0000\n",
            "Epoch 29/30\n",
            "34/34 [==============================] - 0s 6ms/step - loss: 2144.0571 - mae: 2144.5569 - mse: 24045984.0000 - val_loss: 1865.2429 - val_mae: 1865.7410 - val_mse: 20465926.0000\n",
            "Epoch 30/30\n",
            "34/34 [==============================] - 0s 5ms/step - loss: 2253.0618 - mae: 2253.5613 - mse: 25024160.0000 - val_loss: 1805.6626 - val_mae: 1806.1626 - val_mse: 19519568.0000\n"
          ]
        },
        {
          "output_type": "execute_result",
          "data": {
            "text/plain": [
              "[<matplotlib.lines.Line2D at 0x7ee8bdf73190>]"
            ]
          },
          "metadata": {},
          "execution_count": 31
        },
        {
          "output_type": "display_data",
          "data": {
            "text/plain": [
              "<Figure size 640x480 with 1 Axes>"
            ],
            "image/png": "[encoded data removed]"
          },
          "metadata": {}
        }
      ]
    },
    {
      "cell_type": "code",
      "source": [
        "model1 = tf.keras.Sequential([\n",
        "    tf.keras.layers.Dense(units=128, activation='relu'),\n",
        "    tf.keras.layers.Dense(units=32,  activation='relu'),\n",
        "    tf.keras.layers.Dense(units=8,   activation='relu'),\n",
        "    tf.keras.layers.Dense(units=1)\n",
        "])\n",
        "\n",
        "model1.compile(\n",
        "    loss=tf.keras.losses.Huber(),\n",
        "    optimizer=tf.keras.optimizers.Adam(learning_rate=0.05),\n",
        "    metrics=['mae', 'mse']\n",
        ")\n",
        "\n",
        "history1 = model1.fit(\n",
        "    x=X_train,\n",
        "    y=y_train,\n",
        "    validation_data=[X_test, y_test],\n",
        "    epochs=30\n",
        ")\n",
        "\n",
        "plt.plot(history1.history['loss'], label='train loss')\n",
        "plt.plot(history1.history['val_loss'], label='test loss')\n",
        "plt.xlabel('epochs')\n",
        "plt.ylabel('loss')"
      ],
      "metadata": {
        "colab": {
          "base_uri": "https://localhost:8080/",
          "height": 1000
        },
        "id": "yrZkSLlH-VRG",
        "outputId": "0f16cc73-52c1-4439-efa4-c15211aecbb0"
      },
      "execution_count": 32,
      "outputs": [
        {
          "output_type": "stream",
          "name": "stdout",
          "text": [
            "Epoch 1/30\n",
            "34/34 [==============================] - 2s 14ms/step - loss: 10129.8965 - mae: 10130.3965 - mse: 219577856.0000 - val_loss: 7007.6489 - val_mae: 7008.1489 - val_mse: 118090208.0000\n",
            "Epoch 2/30\n",
            "34/34 [==============================] - 0s 5ms/step - loss: 5483.3281 - mae: 5483.8276 - mse: 81999760.0000 - val_loss: 3445.9624 - val_mae: 3446.4612 - val_mse: 38749348.0000\n",
            "Epoch 3/30\n",
            "34/34 [==============================] - 0s 4ms/step - loss: 3416.8489 - mae: 3417.3489 - mse: 44957440.0000 - val_loss: 3341.8137 - val_mae: 3342.3137 - val_mse: 42201320.0000\n",
            "Epoch 4/30\n",
            "34/34 [==============================] - 0s 4ms/step - loss: 3268.1465 - mae: 3268.6455 - mse: 45986984.0000 - val_loss: 3353.6265 - val_mae: 3354.1265 - val_mse: 50619392.0000\n",
            "Epoch 5/30\n",
            "34/34 [==============================] - 0s 4ms/step - loss: 3219.6042 - mae: 3220.1042 - mse: 46079980.0000 - val_loss: 3286.6650 - val_mae: 3287.1650 - val_mse: 38820892.0000\n",
            "Epoch 6/30\n",
            "34/34 [==============================] - 0s 4ms/step - loss: 3272.2000 - mae: 3272.7000 - mse: 42581396.0000 - val_loss: 3161.5916 - val_mae: 3162.0916 - val_mse: 40447584.0000\n",
            "Epoch 7/30\n",
            "34/34 [==============================] - 0s 4ms/step - loss: 3127.2542 - mae: 3127.7532 - mse: 39126360.0000 - val_loss: 3147.3857 - val_mae: 3147.8857 - val_mse: 45200668.0000\n",
            "Epoch 8/30\n",
            "34/34 [==============================] - 0s 4ms/step - loss: 3126.0681 - mae: 3126.5679 - mse: 38596536.0000 - val_loss: 2900.1143 - val_mae: 2900.6143 - val_mse: 36238196.0000\n",
            "Epoch 9/30\n",
            "34/34 [==============================] - 0s 4ms/step - loss: 2863.0862 - mae: 2863.5854 - mse: 36684984.0000 - val_loss: 2930.8359 - val_mae: 2931.3359 - val_mse: 38603520.0000\n",
            "Epoch 10/30\n",
            "34/34 [==============================] - 0s 4ms/step - loss: 2895.4824 - mae: 2895.9824 - mse: 33916540.0000 - val_loss: 2690.6626 - val_mae: 2691.1626 - val_mse: 29696176.0000\n",
            "Epoch 11/30\n",
            "34/34 [==============================] - 0s 4ms/step - loss: 2655.8931 - mae: 2656.3923 - mse: 31000554.0000 - val_loss: 2657.6975 - val_mae: 2658.1975 - val_mse: 27511150.0000\n",
            "Epoch 12/30\n",
            "34/34 [==============================] - 0s 4ms/step - loss: 2469.7964 - mae: 2470.2961 - mse: 29197228.0000 - val_loss: 2330.2788 - val_mae: 2330.7786 - val_mse: 24453534.0000\n",
            "Epoch 13/30\n",
            "34/34 [==============================] - 0s 4ms/step - loss: 2249.6875 - mae: 2250.1870 - mse: 27189464.0000 - val_loss: 2145.7551 - val_mae: 2146.2551 - val_mse: 23592496.0000\n",
            "Epoch 14/30\n",
            "34/34 [==============================] - 0s 4ms/step - loss: 2285.4917 - mae: 2285.9917 - mse: 26169582.0000 - val_loss: 2117.2104 - val_mae: 2117.7104 - val_mse: 21936978.0000\n",
            "Epoch 15/30\n",
            "34/34 [==============================] - 0s 4ms/step - loss: 2256.1438 - mae: 2256.6433 - mse: 26769994.0000 - val_loss: 2294.9846 - val_mae: 2295.4832 - val_mse: 25076974.0000\n",
            "Epoch 16/30\n",
            "34/34 [==============================] - 0s 4ms/step - loss: 2213.1064 - mae: 2213.6060 - mse: 26329862.0000 - val_loss: 2302.8723 - val_mae: 2303.3723 - val_mse: 22633768.0000\n",
            "Epoch 17/30\n",
            "34/34 [==============================] - 0s 4ms/step - loss: 2256.3672 - mae: 2256.8669 - mse: 26810280.0000 - val_loss: 1934.8972 - val_mae: 1935.3965 - val_mse: 21762860.0000\n",
            "Epoch 18/30\n",
            "34/34 [==============================] - 0s 4ms/step - loss: 2198.7976 - mae: 2199.2974 - mse: 26228848.0000 - val_loss: 1965.3945 - val_mae: 1965.8945 - val_mse: 22432702.0000\n",
            "Epoch 19/30\n",
            "34/34 [==============================] - 0s 4ms/step - loss: 2209.2124 - mae: 2209.7117 - mse: 25902442.0000 - val_loss: 1985.2474 - val_mae: 1985.7474 - val_mse: 22348764.0000\n",
            "Epoch 20/30\n",
            "34/34 [==============================] - 0s 4ms/step - loss: 2147.8745 - mae: 2148.3745 - mse: 25827408.0000 - val_loss: 2099.2144 - val_mae: 2099.7144 - val_mse: 21233794.0000\n",
            "Epoch 21/30\n",
            "34/34 [==============================] - 0s 4ms/step - loss: 2179.5808 - mae: 2180.0806 - mse: 25750578.0000 - val_loss: 1897.7029 - val_mae: 1898.2013 - val_mse: 22591188.0000\n",
            "Epoch 22/30\n",
            "34/34 [==============================] - 0s 4ms/step - loss: 2117.2725 - mae: 2117.7710 - mse: 26329868.0000 - val_loss: 1988.0402 - val_mae: 1988.5402 - val_mse: 22108930.0000\n",
            "Epoch 23/30\n",
            "34/34 [==============================] - 0s 4ms/step - loss: 2269.3701 - mae: 2269.8699 - mse: 27286102.0000 - val_loss: 2090.3997 - val_mae: 2090.8997 - val_mse: 22342450.0000\n",
            "Epoch 24/30\n",
            "34/34 [==============================] - 0s 4ms/step - loss: 2176.3906 - mae: 2176.8901 - mse: 25995084.0000 - val_loss: 1897.8619 - val_mae: 1898.3610 - val_mse: 21669920.0000\n",
            "Epoch 25/30\n",
            "34/34 [==============================] - 0s 3ms/step - loss: 2110.1025 - mae: 2110.6023 - mse: 25845494.0000 - val_loss: 1834.2297 - val_mae: 1834.7297 - val_mse: 21589342.0000\n",
            "Epoch 26/30\n",
            "34/34 [==============================] - 0s 4ms/step - loss: 2106.7278 - mae: 2107.2273 - mse: 26099664.0000 - val_loss: 1980.0522 - val_mae: 1980.5522 - val_mse: 21750598.0000\n",
            "Epoch 27/30\n",
            "34/34 [==============================] - 0s 4ms/step - loss: 2148.2837 - mae: 2148.7834 - mse: 26219310.0000 - val_loss: 1844.6874 - val_mae: 1845.1871 - val_mse: 21463004.0000\n",
            "Epoch 28/30\n",
            "34/34 [==============================] - 0s 3ms/step - loss: 2083.3303 - mae: 2083.8293 - mse: 25402098.0000 - val_loss: 1905.9398 - val_mae: 1906.4398 - val_mse: 21918828.0000\n",
            "Epoch 29/30\n",
            "34/34 [==============================] - 0s 4ms/step - loss: 2164.4800 - mae: 2164.9797 - mse: 25887650.0000 - val_loss: 2055.8098 - val_mae: 2056.3098 - val_mse: 21947290.0000\n",
            "Epoch 30/30\n",
            "34/34 [==============================] - 0s 5ms/step - loss: 2109.9624 - mae: 2110.4622 - mse: 25718638.0000 - val_loss: 2024.1859 - val_mae: 2024.6859 - val_mse: 22529484.0000\n"
          ]
        },
        {
          "output_type": "execute_result",
          "data": {
            "text/plain": [
              "Text(0, 0.5, 'loss')"
            ]
          },
          "metadata": {},
          "execution_count": 32
        },
        {
          "output_type": "display_data",
          "data": {
            "text/plain": [
              "<Figure size 640x480 with 1 Axes>"
            ],
            "image/png": "[encoded data removed]"
          },
          "metadata": {}
        }
      ]
    },
    {
      "cell_type": "code",
      "source": [],
      "metadata": {
        "id": "GuV1spIK--3p"
      },
      "execution_count": null,
      "outputs": []
    }
  ]
}