{
  "nbformat": 4,
  "nbformat_minor": 0,
  "metadata": {
    "colab": {
      "provenance": [],
      "toc_visible": true,
      "gpuType": "T4",
      "authorship_tag": "ABX9TyPhB2p9WteWjnnwhCojW0vq",
      "include_colab_link": true
    },
    "kernelspec": {
      "name": "python3",
      "display_name": "Python 3"
    },
    "language_info": {
      "name": "python"
    },
    "accelerator": "GPU"
  },
  "cells": [
    {
      "cell_type": "markdown",
      "metadata": {
        "id": "view-in-github",
        "colab_type": "text"
      },
      "source": [
        "<a href=\"https://colab.research.google.com/github/Mhmmd-Mhmmd/Quera_questions/blob/main/09_skimlit_project.ipynb\" target=\"_parent\"><img src=\"https://colab.research.google.com/assets/colab-badge.svg\" alt=\"Open In Colab\"/></a>"
      ]
    },
    {
      "cell_type": "markdown",
      "source": [
        "# Replicating SKimLit paper\n",
        "[here](arxiv.org/1612.05251.pdf)"
      ],
      "metadata": {
        "id": "svQlZouFEfhS"
      }
    },
    {
      "cell_type": "code",
      "execution_count": null,
      "metadata": {
        "colab": {
          "base_uri": "https://localhost:8080/"
        },
        "id": "poNqv6Oyd9S4",
        "outputId": "ac10b33e-5c1f-4631-a74a-ce9c899966d7"
      },
      "outputs": [
        {
          "output_type": "stream",
          "name": "stdout",
          "text": [
            "Cloning into 'pubmed-rct'...\n",
            "remote: Enumerating objects: 33, done.\u001b[K\n",
            "remote: Counting objects: 100% (8/8), done.\u001b[K\n",
            "remote: Compressing objects: 100% (3/3), done.\u001b[K\n",
            "remote: Total 33 (delta 5), reused 5 (delta 5), pack-reused 25\u001b[K\n",
            "Receiving objects: 100% (33/33), 177.08 MiB | 42.73 MiB/s, done.\n",
            "Resolving deltas: 100% (12/12), done.\n",
            "------------------------------------------------------------\n",
            "total 20K\n",
            "drwxr-xr-x 2 root root 4.0K Oct 24 06:33 PubMed_200k_RCT\n",
            "drwxr-xr-x 2 root root 4.0K Oct 24 06:33 PubMed_200k_RCT_numbers_replaced_with_at_sign\n",
            "drwxr-xr-x 2 root root 4.0K Oct 24 06:33 PubMed_20k_RCT\n",
            "drwxr-xr-x 2 root root 4.0K Oct 24 06:33 PubMed_20k_RCT_numbers_replaced_with_at_sign\n",
            "-rw-r--r-- 1 root root 2.4K Oct 24 06:33 README.md\n"
          ]
        }
      ],
      "source": [
        "!git clone https://github.com/Franck-Dernoncourt/pubmed-rct\n",
        "!echo \"------------------------------------------------------------\"\n",
        "!ls pubmed-rct -lh"
      ]
    },
    {
      "cell_type": "code",
      "source": [
        "import tensorflow as tf\n",
        "from tensorflow import keras\n",
        "import numpy as np\n",
        "import pandas as pd\n",
        "import matplotlib.pyplot as plt\n",
        "import os\n",
        "import re\n",
        "from sklearn.preprocessing import OneHotEncoder, LabelEncoder\n",
        "from sklearn.metrics import accuracy_score, f1_score, recall_score, precision_score, classification_report, confusion_matrix"
      ],
      "metadata": {
        "id": "rbyWAcvF47jW"
      },
      "execution_count": null,
      "outputs": []
    },
    {
      "cell_type": "code",
      "source": [
        "data_dir = \"/content/pubmed-rct/PubMed_20k_RCT_numbers_replaced_with_at_sign/train.txt\"\n",
        "file_names = [data_dir + file for file in os.listdir('/content/pubmed-rct/PubMed_20k_RCT_numbers_replaced_with_at_sign/')]\n",
        "file_names"
      ],
      "metadata": {
        "colab": {
          "base_uri": "https://localhost:8080/"
        },
        "id": "E9fl1Iq_x5h7",
        "outputId": "b8201c37-984c-4928-d390-2891248df0bd"
      },
      "execution_count": null,
      "outputs": [
        {
          "output_type": "execute_result",
          "data": {
            "text/plain": [
              "['/content/pubmed-rct/PubMed_20k_RCT_numbers_replaced_with_at_sign/train.txttrain.txt',\n",
              " '/content/pubmed-rct/PubMed_20k_RCT_numbers_replaced_with_at_sign/train.txttest.txt',\n",
              " '/content/pubmed-rct/PubMed_20k_RCT_numbers_replaced_with_at_sign/train.txtdev.txt']"
            ]
          },
          "metadata": {},
          "execution_count": 3
        }
      ]
    },
    {
      "cell_type": "code",
      "source": [
        "!nvidia-smi"
      ],
      "metadata": {
        "id": "XbH4mFVAycmT",
        "colab": {
          "base_uri": "https://localhost:8080/"
        },
        "outputId": "6c30d672-5ad4-47da-cc1e-d3fda6c3b7fe"
      },
      "execution_count": null,
      "outputs": [
        {
          "output_type": "stream",
          "name": "stdout",
          "text": [
            "Mon Oct 23 08:08:03 2023       \n",
            "+-----------------------------------------------------------------------------+\n",
            "| NVIDIA-SMI 525.105.17   Driver Version: 525.105.17   CUDA Version: 12.0     |\n",
            "|-------------------------------+----------------------+----------------------+\n",
            "| GPU  Name        Persistence-M| Bus-Id        Disp.A | Volatile Uncorr. ECC |\n",
            "| Fan  Temp  Perf  Pwr:Usage/Cap|         Memory-Usage | GPU-Util  Compute M. |\n",
            "|                               |                      |               MIG M. |\n",
            "|===============================+======================+======================|\n",
            "|   0  Tesla T4            Off  | 00000000:00:04.0 Off |                    0 |\n",
            "| N/A   44C    P8    10W /  70W |      0MiB / 15360MiB |      0%      Default |\n",
            "|                               |                      |                  N/A |\n",
            "+-------------------------------+----------------------+----------------------+\n",
            "                                                                               \n",
            "+-----------------------------------------------------------------------------+\n",
            "| Processes:                                                                  |\n",
            "|  GPU   GI   CI        PID   Type   Process name                  GPU Memory |\n",
            "|        ID   ID                                                   Usage      |\n",
            "|=============================================================================|\n",
            "|  No running processes found                                                 |\n",
            "+-----------------------------------------------------------------------------+\n"
          ]
        }
      ]
    },
    {
      "cell_type": "code",
      "source": [],
      "metadata": {
        "id": "dOEfR887Edmh"
      },
      "execution_count": null,
      "outputs": []
    },
    {
      "cell_type": "markdown",
      "source": [
        "## Preprocessing\n",
        "and visualisation"
      ],
      "metadata": {
        "id": "yOOggSXD5_87"
      }
    },
    {
      "cell_type": "code",
      "source": [
        "def get_lines(file_name: str) -> list:\n",
        "    with open(file=file_name, mode='r', encoding='utf8') as f_in:\n",
        "        lines = f_in.readlines()\n",
        "    return lines"
      ],
      "metadata": {
        "id": "Bna95-ih6fsD"
      },
      "execution_count": null,
      "outputs": []
    },
    {
      "cell_type": "code",
      "source": [
        "def preprocess_text_with_line_numbers(filename):\n",
        "    with open(file=filename, mode='r', encoding='utf8') as f_in:\n",
        "        input_lines = f_in.readlines()\n",
        "    # input_lines = get_lines(filename)\n",
        "\n",
        "    abstract_lines = \"\" # create an empty abstract\n",
        "    abstract_samples = [] # create an empty list of abstracts\n",
        "\n",
        "  # Loop through each line in target file\n",
        "    for line in input_lines:\n",
        "        if line.startswith(\"###\"): # check to see if line is an ID line\n",
        "            abstract_id = line\n",
        "            abstract_lines = \"\" # reset abstract string\n",
        "        elif line.isspace(): # check to see if line is a new line\n",
        "            abstract_line_split = abstract_lines.splitlines() # split abstract into separate lines\n",
        "\n",
        "            # Iterate through each line in abstract and count them at the same time\n",
        "            for abstract_line_number, abstract_line in enumerate(abstract_line_split):\n",
        "                line_data = {} # create empty dict to store data from line\n",
        "                target_text_split = abstract_line.split(\"\\t\") # split target label from text\n",
        "                line_data[\"target\"] = target_text_split[0] # get target label\n",
        "                line_data[\"text\"] = target_text_split[1].lower() # get target text and lower it\n",
        "                line_data[\"line_number\"] = abstract_line_number # what number line does the line appear in the abstract?\n",
        "                line_data[\"total_lines\"] = len(abstract_line_split) - 1 # how many total lines are in the abstract? (start from 0)\n",
        "                abstract_samples.append(line_data) # add line data to abstract samples list\n",
        "\n",
        "        else: # if the above conditions aren't fulfilled, the line contains a labelled sentence\n",
        "            abstract_lines += line\n",
        "\n",
        "    return abstract_samples"
      ],
      "metadata": {
        "id": "5vmkB4EkDmy1"
      },
      "execution_count": null,
      "outputs": []
    },
    {
      "cell_type": "code",
      "source": [
        "%%time\n",
        "train_samples = preprocess_text_with_line_numbers('pubmed-rct/PubMed_20k_RCT_numbers_replaced_with_at_sign/train.txt')\n",
        "valid_samples = preprocess_text_with_line_numbers('pubmed-rct/PubMed_20k_RCT_numbers_replaced_with_at_sign/dev.txt')\n",
        "test_samples  = preprocess_text_with_line_numbers('pubmed-rct/PubMed_20k_RCT_numbers_replaced_with_at_sign/test.txt')\n",
        "\n",
        "print(len(train_samples), len(valid_samples), len(test_samples))"
      ],
      "metadata": {
        "colab": {
          "base_uri": "https://localhost:8080/"
        },
        "id": "EcHomAJnQTT_",
        "outputId": "eb9ce788-5770-4c6b-a0f1-0ed50ba62542"
      },
      "execution_count": null,
      "outputs": [
        {
          "output_type": "stream",
          "name": "stdout",
          "text": [
            "180040 30212 30135\n",
            "CPU times: user 367 ms, sys: 78.1 ms, total: 445 ms\n",
            "Wall time: 456 ms\n"
          ]
        }
      ]
    },
    {
      "cell_type": "code",
      "source": [
        "train_data = pd.DataFrame(train_samples)\n",
        "valid_data = pd.DataFrame(valid_samples)\n",
        "test_data  = pd.DataFrame(test_samples)"
      ],
      "metadata": {
        "id": "yRbUwdsEYmMc"
      },
      "execution_count": null,
      "outputs": []
    },
    {
      "cell_type": "code",
      "source": [
        "train_data['target'].value_counts()"
      ],
      "metadata": {
        "colab": {
          "base_uri": "https://localhost:8080/"
        },
        "id": "P_456xL7ZuUe",
        "outputId": "1be4932c-ae46-41b3-cb16-c09869934f82"
      },
      "execution_count": null,
      "outputs": [
        {
          "output_type": "execute_result",
          "data": {
            "text/plain": [
              "METHODS        59353\n",
              "RESULTS        57953\n",
              "CONCLUSIONS    27168\n",
              "BACKGROUND     21727\n",
              "OBJECTIVE      13839\n",
              "Name: target, dtype: int64"
            ]
          },
          "metadata": {},
          "execution_count": 8
        }
      ]
    },
    {
      "cell_type": "code",
      "source": [
        "train_data['total_lines'].plot.hist();"
      ],
      "metadata": {
        "id": "XCCoag7taDz_",
        "colab": {
          "base_uri": "https://localhost:8080/",
          "height": 431
        },
        "outputId": "0a4bd802-d014-4679-90e0-2604b3e2917a"
      },
      "execution_count": null,
      "outputs": [
        {
          "output_type": "display_data",
          "data": {
            "text/plain": [
              "<Figure size 640x480 with 1 Axes>"
            ],
            "image/png": "[encoded data removed]"
          },
          "metadata": {}
        }
      ]
    },
    {
      "cell_type": "code",
      "source": [
        "train_sents = train_data['text'].to_numpy()\n",
        "valid_sents = valid_data['text'].to_numpy()\n",
        "test_sents = test_data['text'].to_numpy()\n",
        "\n",
        "train_sents.shape"
      ],
      "metadata": {
        "colab": {
          "base_uri": "https://localhost:8080/"
        },
        "id": "ym7tTON0afJv",
        "outputId": "8825302c-a1a3-4c7c-a621-d3d9ff2f1cfe"
      },
      "execution_count": null,
      "outputs": [
        {
          "output_type": "execute_result",
          "data": {
            "text/plain": [
              "(180040,)"
            ]
          },
          "metadata": {},
          "execution_count": 10
        }
      ]
    },
    {
      "cell_type": "code",
      "source": [
        "encoder = OneHotEncoder(sparse_output=False)\n",
        "\n",
        "train_labels = encoder.fit_transform(train_data['target'].to_numpy().reshape(-1, 1))\n",
        "valid_labels = encoder.transform(valid_data['target'].to_numpy().reshape(-1, 1))\n",
        "test_labels = encoder.transform(test_data['target'].to_numpy().reshape(-1, 1))\n",
        "\n",
        "train_labels.shape"
      ],
      "metadata": {
        "colab": {
          "base_uri": "https://localhost:8080/"
        },
        "id": "MZK1TARYiVOw",
        "outputId": "cd0cdd7b-4897-4ccd-847e-ddb447a004d5"
      },
      "execution_count": null,
      "outputs": [
        {
          "output_type": "execute_result",
          "data": {
            "text/plain": [
              "(180040, 5)"
            ]
          },
          "metadata": {},
          "execution_count": 11
        }
      ]
    },
    {
      "cell_type": "code",
      "source": [
        "l_encoder = LabelEncoder()\n",
        "class_names = l_encoder.fit(train_data['target'].to_numpy()).classes_\n",
        "num_classes = len(class_names)\n",
        "\n",
        "train_labels_enc = l_encoder.fit_transform(train_data['target'].to_numpy())\n",
        "valid_labels_enc = l_encoder.transform(valid_data['target'].to_numpy())\n",
        "test_labels_enc = l_encoder.transform(test_data['target'].to_numpy())"
      ],
      "metadata": {
        "id": "Gfbc5Ku6oCtS"
      },
      "execution_count": null,
      "outputs": []
    },
    {
      "cell_type": "markdown",
      "source": [
        "## Experiments\n",
        "* Model 0: Baseline (Naive Bayes with TF-IDF)\n",
        "* Model 1: Conv1D with token embedding\n",
        "* Model 2: TensorFlow Hub pretrained feature extractor\n",
        "* Model 3: Connv1D with character embedding\n",
        "* Model 4: Pre-trained token embedding (same as 2) with character embedding (same as 3)\n",
        "* Model 5: Pre-trained token embedding + character embedding + positional embeddings"
      ],
      "metadata": {
        "id": "pPKXhoFroMX8"
      }
    },
    {
      "cell_type": "code",
      "source": [
        "def evaluation(y_true, y_pred) -> dict:\n",
        "    res = {}\n",
        "    res[\"acc\"] = accuracy_score(y_true, y_pred)\n",
        "    res[\"recall\"] = recall_score(y_true, y_pred, average='weighted')\n",
        "    res[\"precision\"] = precision_score(y_true, y_pred, average='weighted')\n",
        "    res[\"f1\"] = f1_score(y_true, y_pred, average='weighted')\n",
        "\n",
        "    print('-' * 50)\n",
        "    print(f\"accuracy: {res['acc']:.4}, recall: {res['recall']:.4}, precision: {res['precision']:.4}, f1: {res['f1']:.4}\\n\")\n",
        "\n",
        "    print(classification_report(y_true, y_pred))\n",
        "    print(confusion_matrix(y_true, y_pred))\n",
        "\n",
        "    return res"
      ],
      "metadata": {
        "id": "uHEd91n6-O3j"
      },
      "execution_count": null,
      "outputs": []
    },
    {
      "cell_type": "markdown",
      "source": [
        "### Model 0: Baseline"
      ],
      "metadata": {
        "id": "s7EaBDyyvITn"
      }
    },
    {
      "cell_type": "code",
      "source": [
        "from sklearn.pipeline import Pipeline\n",
        "from sklearn.feature_extraction.text import TfidfVectorizer\n",
        "from sklearn.naive_bayes import MultinomialNB, CategoricalNB"
      ],
      "metadata": {
        "id": "RxT2AF8ButAR"
      },
      "execution_count": null,
      "outputs": []
    },
    {
      "cell_type": "code",
      "source": [
        "# %%time\n",
        "vectorizer = TfidfVectorizer(stop_words='english')\n",
        "\n",
        "model_0 = Pipeline(steps=[('tfidf', TfidfVectorizer()),\n",
        "                          ('clf', MultinomialNB())],\n",
        "                   verbose=True)\n",
        "\n",
        "model_0.fit(train_sents, train_labels_enc,)\n",
        "\n",
        "y_pred = model_0.predict(valid_sents)\n",
        "\n",
        "result_model_0 = evaluation(valid_labels_enc, y_pred)"
      ],
      "metadata": {
        "colab": {
          "base_uri": "https://localhost:8080/"
        },
        "id": "NlUlBHZqvHkD",
        "outputId": "bcb22eb4-2ef7-472a-e455-ccde2e1c4553"
      },
      "execution_count": null,
      "outputs": [
        {
          "output_type": "stream",
          "name": "stdout",
          "text": [
            "[Pipeline] ............. (step 1 of 2) Processing tfidf, total=   3.2s\n",
            "[Pipeline] ............... (step 2 of 2) Processing clf, total=   0.1s\n",
            "--------------------------------------------------\n",
            "accuracy: 0.7218, recall: 0.7218, precision: 0.7186, f1: 0.6989\n",
            "\n",
            "              precision    recall  f1-score   support\n",
            "\n",
            "           0       0.66      0.49      0.56      3449\n",
            "           1       0.65      0.59      0.61      4582\n",
            "           2       0.72      0.87      0.79      9964\n",
            "           3       0.75      0.14      0.23      2376\n",
            "           4       0.76      0.86      0.81      9841\n",
            "\n",
            "    accuracy                           0.72     30212\n",
            "   macro avg       0.71      0.59      0.60     30212\n",
            "weighted avg       0.72      0.72      0.70     30212\n",
            "\n",
            "[[1683  794  694   97  181]\n",
            " [ 244 2687  432    5 1214]\n",
            " [ 116   75 8670    7 1096]\n",
            " [ 505  422  978  325  146]\n",
            " [  20  181 1196    1 8443]]\n"
          ]
        }
      ]
    },
    {
      "cell_type": "markdown",
      "source": [
        "### Model 1: Conv1D with token embedding"
      ],
      "metadata": {
        "id": "iDybdRD3KJr4"
      }
    },
    {
      "cell_type": "code",
      "source": [
        "train_dataset = tf.data.Dataset.from_tensor_slices((train_sents, train_labels))\n",
        "valid_dataset = tf.data.Dataset.from_tensor_slices((valid_sents, valid_labels))\n",
        "test_dataset  = tf.data.Dataset.from_tensor_slices((test_sents,  test_labels))\n",
        "\n",
        "train_dataset = train_dataset.batch(32).prefetch(tf.data.AUTOTUNE)\n",
        "valid_dataset = valid_dataset.batch(32).prefetch(tf.data.AUTOTUNE)\n",
        "test_dataset  = test_dataset.batch(32).prefetch(tf.data.AUTOTUNE)"
      ],
      "metadata": {
        "id": "TG3i6vCno1P2"
      },
      "execution_count": null,
      "outputs": []
    },
    {
      "cell_type": "code",
      "source": [
        "ave_len = int(tf.reduce_mean([len(line.split()) for line in train_sents]))\n",
        "ave_len"
      ],
      "metadata": {
        "colab": {
          "base_uri": "https://localhost:8080/"
        },
        "id": "fM6W7WMjN-Qm",
        "outputId": "bc194ed0-4038-4d06-ed7e-429951b95408"
      },
      "execution_count": null,
      "outputs": [
        {
          "output_type": "execute_result",
          "data": {
            "text/plain": [
              "26"
            ]
          },
          "metadata": {},
          "execution_count": 17
        }
      ]
    },
    {
      "cell_type": "code",
      "source": [
        "optim_len = int(np.percentile([len(line.split()) for line in train_sents], q=95))"
      ],
      "metadata": {
        "id": "IfJ2qXKgfL6E"
      },
      "execution_count": null,
      "outputs": []
    },
    {
      "cell_type": "code",
      "source": [
        "vectorization_layer = keras.layers.TextVectorization(max_tokens=1000,\n",
        "                                                     output_sequence_length=optim_len,\n",
        "                                                     pad_to_max_tokens=True)\n",
        "vectorization_layer.adapt(train_sents)"
      ],
      "metadata": {
        "id": "iCJBlSmcLgSu"
      },
      "execution_count": null,
      "outputs": []
    },
    {
      "cell_type": "code",
      "source": [
        "inputs = keras.layers.Input(shape=(1,), dtype=tf.string)\n",
        "x = vectorization_layer(inputs)\n",
        "x = keras.layers.Embedding(input_dim=1000, output_dim=512, input_length=optim_len)(x)\n",
        "x = keras.layers.Conv1D(filters=64, kernel_size=5, padding='same', activation='relu')(x)\n",
        "x = keras.layers.GlobalAveragePooling1D()(x)\n",
        "outputs = keras.layers.Dense(units=num_classes, activation='softmax')(x)\n",
        "\n",
        "model_1 = keras.Model(inputs, outputs, name='model_1')\n",
        "\n",
        "model_1.compile(loss=keras.losses.CategoricalCrossentropy(),\n",
        "                optimizer=keras.optimizers.Adam(),\n",
        "                metrics='accuracy')\n",
        "\n",
        "model_1.summary()\n",
        "\n",
        "history_model_1 = model_1.fit(train_dataset,\n",
        "                              validation_data=valid_dataset,\n",
        "                              callbacks=[keras.callbacks.ModelCheckpoint(filepath='checkpoints/model_1.ckpt',\n",
        "                                                                         save_best_only=True),\n",
        "                                         keras.callbacks.TensorBoard(log_dir='logs/model_1',\n",
        "                                                                     write_images=True)],\n",
        "                              epochs=5)"
      ],
      "metadata": {
        "id": "7MLg-4K9I2wK",
        "colab": {
          "base_uri": "https://localhost:8080/"
        },
        "outputId": "021639de-509c-4c8d-f50b-50bb2f9db3d8"
      },
      "execution_count": null,
      "outputs": [
        {
          "output_type": "stream",
          "name": "stdout",
          "text": [
            "Model: \"model_1\"\n",
            "_________________________________________________________________\n",
            " Layer (type)                Output Shape              Param #   \n",
            "=================================================================\n",
            " input_1 (InputLayer)        [(None, 1)]               0         \n",
            "                                                                 \n",
            " text_vectorization (TextVe  (None, 55)                0         \n",
            " ctorization)                                                    \n",
            "                                                                 \n",
            " embedding (Embedding)       (None, 55, 512)           512000    \n",
            "                                                                 \n",
            " conv1d (Conv1D)             (None, 55, 64)            163904    \n",
            "                                                                 \n",
            " global_average_pooling1d (  (None, 64)                0         \n",
            " GlobalAveragePooling1D)                                         \n",
            "                                                                 \n",
            " dense (Dense)               (None, 5)                 325       \n",
            "                                                                 \n",
            "=================================================================\n",
            "Total params: 676229 (2.58 MB)\n",
            "Trainable params: 676229 (2.58 MB)\n",
            "Non-trainable params: 0 (0.00 Byte)\n",
            "_________________________________________________________________\n",
            "Epoch 1/5\n",
            "5627/5627 [==============================] - 60s 9ms/step - loss: 0.6449 - accuracy: 0.7610 - val_loss: 0.6045 - val_accuracy: 0.7773\n",
            "Epoch 2/5\n",
            "5627/5627 [==============================] - 34s 6ms/step - loss: 0.5641 - accuracy: 0.7939 - val_loss: 0.5737 - val_accuracy: 0.7883\n",
            "Epoch 3/5\n",
            "5627/5627 [==============================] - 35s 6ms/step - loss: 0.5339 - accuracy: 0.8046 - val_loss: 0.5629 - val_accuracy: 0.7923\n",
            "Epoch 4/5\n",
            "5627/5627 [==============================] - 35s 6ms/step - loss: 0.5114 - accuracy: 0.8132 - val_loss: 0.5525 - val_accuracy: 0.7962\n",
            "Epoch 5/5\n",
            "5627/5627 [==============================] - 37s 7ms/step - loss: 0.4927 - accuracy: 0.8202 - val_loss: 0.5500 - val_accuracy: 0.7972\n"
          ]
        }
      ]
    },
    {
      "cell_type": "code",
      "source": [
        "evaluation(test_labels, model_1.predict(test_sents))"
      ],
      "metadata": {
        "id": "XDplaGHWS1Lf",
        "colab": {
          "base_uri": "https://localhost:8080/",
          "height": 340
        },
        "outputId": "4ad016a3-a546-4d23-d2c6-d5aaadc90e5a"
      },
      "execution_count": null,
      "outputs": [
        {
          "output_type": "stream",
          "name": "stdout",
          "text": [
            "942/942 [==============================] - 3s 3ms/step\n"
          ]
        },
        {
          "output_type": "error",
          "ename": "ValueError",
          "evalue": "ignored",
          "traceback": [
            "\u001b[0;31m---------------------------------------------------------------------------\u001b[0m",
            "\u001b[0;31mValueError\u001b[0m                                Traceback (most recent call last)",
            "\u001b[0;32m<ipython-input-21-ba50c270c0f1>\u001b[0m in \u001b[0;36m<cell line: 1>\u001b[0;34m()\u001b[0m\n\u001b[0;32m----> 1\u001b[0;31m \u001b[0mevaluation\u001b[0m\u001b[0;34m(\u001b[0m\u001b[0mtest_labels\u001b[0m\u001b[0;34m,\u001b[0m \u001b[0mmodel_1\u001b[0m\u001b[0;34m.\u001b[0m\u001b[0mpredict\u001b[0m\u001b[0;34m(\u001b[0m\u001b[0mtest_sents\u001b[0m\u001b[0;34m)\u001b[0m\u001b[0;34m)\u001b[0m\u001b[0;34m\u001b[0m\u001b[0;34m\u001b[0m\u001b[0m\n\u001b[0m",
            "\u001b[0;32m<ipython-input-13-3d9a97b2be2f>\u001b[0m in \u001b[0;36mevaluation\u001b[0;34m(y_true, y_pred)\u001b[0m\n\u001b[1;32m      1\u001b[0m \u001b[0;32mdef\u001b[0m \u001b[0mevaluation\u001b[0m\u001b[0;34m(\u001b[0m\u001b[0my_true\u001b[0m\u001b[0;34m,\u001b[0m \u001b[0my_pred\u001b[0m\u001b[0;34m)\u001b[0m \u001b[0;34m->\u001b[0m \u001b[0mdict\u001b[0m\u001b[0;34m:\u001b[0m\u001b[0;34m\u001b[0m\u001b[0;34m\u001b[0m\u001b[0m\n\u001b[1;32m      2\u001b[0m     \u001b[0mres\u001b[0m \u001b[0;34m=\u001b[0m \u001b[0;34m{\u001b[0m\u001b[0;34m}\u001b[0m\u001b[0;34m\u001b[0m\u001b[0;34m\u001b[0m\u001b[0m\n\u001b[0;32m----> 3\u001b[0;31m     \u001b[0mres\u001b[0m\u001b[0;34m[\u001b[0m\u001b[0;34m\"acc\"\u001b[0m\u001b[0;34m]\u001b[0m \u001b[0;34m=\u001b[0m \u001b[0maccuracy_score\u001b[0m\u001b[0;34m(\u001b[0m\u001b[0my_true\u001b[0m\u001b[0;34m,\u001b[0m \u001b[0my_pred\u001b[0m\u001b[0;34m)\u001b[0m\u001b[0;34m\u001b[0m\u001b[0;34m\u001b[0m\u001b[0m\n\u001b[0m\u001b[1;32m      4\u001b[0m     \u001b[0mres\u001b[0m\u001b[0;34m[\u001b[0m\u001b[0;34m\"recall\"\u001b[0m\u001b[0;34m]\u001b[0m \u001b[0;34m=\u001b[0m \u001b[0mrecall_score\u001b[0m\u001b[0;34m(\u001b[0m\u001b[0my_true\u001b[0m\u001b[0;34m,\u001b[0m \u001b[0my_pred\u001b[0m\u001b[0;34m,\u001b[0m \u001b[0maverage\u001b[0m\u001b[0;34m=\u001b[0m\u001b[0;34m'weighted'\u001b[0m\u001b[0;34m)\u001b[0m\u001b[0;34m\u001b[0m\u001b[0;34m\u001b[0m\u001b[0m\n\u001b[1;32m      5\u001b[0m     \u001b[0mres\u001b[0m\u001b[0;34m[\u001b[0m\u001b[0;34m\"precision\"\u001b[0m\u001b[0;34m]\u001b[0m \u001b[0;34m=\u001b[0m \u001b[0mprecision_score\u001b[0m\u001b[0;34m(\u001b[0m\u001b[0my_true\u001b[0m\u001b[0;34m,\u001b[0m \u001b[0my_pred\u001b[0m\u001b[0;34m,\u001b[0m \u001b[0maverage\u001b[0m\u001b[0;34m=\u001b[0m\u001b[0;34m'weighted'\u001b[0m\u001b[0;34m)\u001b[0m\u001b[0;34m\u001b[0m\u001b[0;34m\u001b[0m\u001b[0m\n",
            "\u001b[0;32m/usr/local/lib/python3.10/dist-packages/sklearn/utils/_param_validation.py\u001b[0m in \u001b[0;36mwrapper\u001b[0;34m(*args, **kwargs)\u001b[0m\n\u001b[1;32m    190\u001b[0m \u001b[0;34m\u001b[0m\u001b[0m\n\u001b[1;32m    191\u001b[0m             \u001b[0;32mtry\u001b[0m\u001b[0;34m:\u001b[0m\u001b[0;34m\u001b[0m\u001b[0;34m\u001b[0m\u001b[0m\n\u001b[0;32m--> 192\u001b[0;31m                 \u001b[0;32mreturn\u001b[0m \u001b[0mfunc\u001b[0m\u001b[0;34m(\u001b[0m\u001b[0;34m*\u001b[0m\u001b[0margs\u001b[0m\u001b[0;34m,\u001b[0m \u001b[0;34m**\u001b[0m\u001b[0mkwargs\u001b[0m\u001b[0;34m)\u001b[0m\u001b[0;34m\u001b[0m\u001b[0;34m\u001b[0m\u001b[0m\n\u001b[0m\u001b[1;32m    193\u001b[0m             \u001b[0;32mexcept\u001b[0m \u001b[0mInvalidParameterError\u001b[0m \u001b[0;32mas\u001b[0m \u001b[0me\u001b[0m\u001b[0;34m:\u001b[0m\u001b[0;34m\u001b[0m\u001b[0;34m\u001b[0m\u001b[0m\n\u001b[1;32m    194\u001b[0m                 \u001b[0;31m# When the function is just a wrapper around an estimator, we allow\u001b[0m\u001b[0;34m\u001b[0m\u001b[0;34m\u001b[0m\u001b[0m\n",
            "\u001b[0;32m/usr/local/lib/python3.10/dist-packages/sklearn/metrics/_classification.py\u001b[0m in \u001b[0;36maccuracy_score\u001b[0;34m(y_true, y_pred, normalize, sample_weight)\u001b[0m\n\u001b[1;32m    219\u001b[0m \u001b[0;34m\u001b[0m\u001b[0m\n\u001b[1;32m    220\u001b[0m     \u001b[0;31m# Compute accuracy for each possible representation\u001b[0m\u001b[0;34m\u001b[0m\u001b[0;34m\u001b[0m\u001b[0m\n\u001b[0;32m--> 221\u001b[0;31m     \u001b[0my_type\u001b[0m\u001b[0;34m,\u001b[0m \u001b[0my_true\u001b[0m\u001b[0;34m,\u001b[0m \u001b[0my_pred\u001b[0m \u001b[0;34m=\u001b[0m \u001b[0m_check_targets\u001b[0m\u001b[0;34m(\u001b[0m\u001b[0my_true\u001b[0m\u001b[0;34m,\u001b[0m \u001b[0my_pred\u001b[0m\u001b[0;34m)\u001b[0m\u001b[0;34m\u001b[0m\u001b[0;34m\u001b[0m\u001b[0m\n\u001b[0m\u001b[1;32m    222\u001b[0m     \u001b[0mcheck_consistent_length\u001b[0m\u001b[0;34m(\u001b[0m\u001b[0my_true\u001b[0m\u001b[0;34m,\u001b[0m \u001b[0my_pred\u001b[0m\u001b[0;34m,\u001b[0m \u001b[0msample_weight\u001b[0m\u001b[0;34m)\u001b[0m\u001b[0;34m\u001b[0m\u001b[0;34m\u001b[0m\u001b[0m\n\u001b[1;32m    223\u001b[0m     \u001b[0;32mif\u001b[0m \u001b[0my_type\u001b[0m\u001b[0;34m.\u001b[0m\u001b[0mstartswith\u001b[0m\u001b[0;34m(\u001b[0m\u001b[0;34m\"multilabel\"\u001b[0m\u001b[0;34m)\u001b[0m\u001b[0;34m:\u001b[0m\u001b[0;34m\u001b[0m\u001b[0;34m\u001b[0m\u001b[0m\n",
            "\u001b[0;32m/usr/local/lib/python3.10/dist-packages/sklearn/metrics/_classification.py\u001b[0m in \u001b[0;36m_check_targets\u001b[0;34m(y_true, y_pred)\u001b[0m\n\u001b[1;32m     93\u001b[0m \u001b[0;34m\u001b[0m\u001b[0m\n\u001b[1;32m     94\u001b[0m     \u001b[0;32mif\u001b[0m \u001b[0mlen\u001b[0m\u001b[0;34m(\u001b[0m\u001b[0my_type\u001b[0m\u001b[0;34m)\u001b[0m \u001b[0;34m>\u001b[0m \u001b[0;36m1\u001b[0m\u001b[0;34m:\u001b[0m\u001b[0;34m\u001b[0m\u001b[0;34m\u001b[0m\u001b[0m\n\u001b[0;32m---> 95\u001b[0;31m         raise ValueError(\n\u001b[0m\u001b[1;32m     96\u001b[0m             \"Classification metrics can't handle a mix of {0} and {1} targets\".format(\n\u001b[1;32m     97\u001b[0m                 \u001b[0mtype_true\u001b[0m\u001b[0;34m,\u001b[0m \u001b[0mtype_pred\u001b[0m\u001b[0;34m\u001b[0m\u001b[0;34m\u001b[0m\u001b[0m\n",
            "\u001b[0;31mValueError\u001b[0m: Classification metrics can't handle a mix of multilabel-indicator and continuous-multioutput targets"
          ]
        }
      ]
    },
    {
      "cell_type": "code",
      "source": [
        "model_1.evaluate(test_dataset)"
      ],
      "metadata": {
        "id": "xGFRSOqfYrdx",
        "colab": {
          "base_uri": "https://localhost:8080/"
        },
        "outputId": "efe58a1a-df0b-4863-8ffd-bea8640e8cfa"
      },
      "execution_count": null,
      "outputs": [
        {
          "output_type": "stream",
          "name": "stdout",
          "text": [
            "942/942 [==============================] - 4s 4ms/step - loss: 0.5722 - accuracy: 0.7901\n"
          ]
        },
        {
          "output_type": "execute_result",
          "data": {
            "text/plain": [
              "[0.5721787214279175, 0.7900779843330383]"
            ]
          },
          "metadata": {},
          "execution_count": 22
        }
      ]
    },
    {
      "cell_type": "markdown",
      "source": [
        "### Model 2: TensorFlow Hub pretrained feature extractor"
      ],
      "metadata": {
        "id": "SW54CfEZTyXK"
      }
    },
    {
      "cell_type": "code",
      "source": [
        "import tensorflow_hub as hub"
      ],
      "metadata": {
        "id": "H0SyxE7_ScRR"
      },
      "execution_count": null,
      "outputs": []
    },
    {
      "cell_type": "code",
      "source": [
        "transfer_embedding_layer = hub.KerasLayer(handle=\"https://tfhub.dev/google/universal-sentence-encoder/4\",\n",
        "                                          input_shape=[],\n",
        "                                          dtype=tf.string,\n",
        "                                          trainable=False,\n",
        "                                          name=\"USE_layer\")"
      ],
      "metadata": {
        "id": "3kydlcymT-9p"
      },
      "execution_count": null,
      "outputs": []
    },
    {
      "cell_type": "code",
      "source": [
        "inputs = keras.layers.Input(shape=(), dtype=tf.string)\n",
        "x = transfer_embedding_layer(inputs)\n",
        "x = keras.layers.Dense(units=128, activation='relu')(x)\n",
        "outputs = keras.layers.Dense(units=num_classes, activation='softmax')(x)\n",
        "\n",
        "model_2 = keras.Model(inputs, outputs, name='model_2')\n",
        "\n",
        "model_2.compile(loss=keras.losses.CategoricalCrossentropy(),\n",
        "                optimizer=keras.optimizers.Adam(),\n",
        "                metrics='accuracy')\n",
        "\n",
        "model_2.summary()\n",
        "\n",
        "history_model_2 = model_2.fit(train_dataset,\n",
        "                              validation_data=valid_dataset,\n",
        "                              callbacks=[keras.callbacks.ModelCheckpoint(filepath='checkpoints/model_2.ckpt',\n",
        "                                                                         save_best_only=True),\n",
        "                                         keras.callbacks.TensorBoard(log_dir='logs/model_2',\n",
        "                                                                     write_images=True)],\n",
        "                              epochs=5)"
      ],
      "metadata": {
        "id": "KMdMhvQoIQ2w",
        "colab": {
          "base_uri": "https://localhost:8080/"
        },
        "outputId": "eca47132-7db9-4fc6-8680-64187648e2f5"
      },
      "execution_count": null,
      "outputs": [
        {
          "output_type": "stream",
          "name": "stdout",
          "text": [
            "Model: \"model_2\"\n",
            "_________________________________________________________________\n",
            " Layer (type)                Output Shape              Param #   \n",
            "=================================================================\n",
            " input_2 (InputLayer)        [(None,)]                 0         \n",
            "                                                                 \n",
            " USE_layer (KerasLayer)      (None, 512)               256797824 \n",
            "                                                                 \n",
            " dense_1 (Dense)             (None, 128)               65664     \n",
            "                                                                 \n",
            " dense_2 (Dense)             (None, 5)                 645       \n",
            "                                                                 \n",
            "=================================================================\n",
            "Total params: 256864133 (979.86 MB)\n",
            "Trainable params: 66309 (259.02 KB)\n",
            "Non-trainable params: 256797824 (979.61 MB)\n",
            "_________________________________________________________________\n",
            "Epoch 1/5\n",
            "5627/5627 [==============================] - 95s 16ms/step - loss: 0.7275 - accuracy: 0.7223 - val_loss: 0.6567 - val_accuracy: 0.7492\n",
            "Epoch 2/5\n",
            "5627/5627 [==============================] - 89s 16ms/step - loss: 0.6346 - accuracy: 0.7595 - val_loss: 0.6214 - val_accuracy: 0.7628\n",
            "Epoch 3/5\n",
            "5627/5627 [==============================] - 93s 16ms/step - loss: 0.6005 - accuracy: 0.7733 - val_loss: 0.6067 - val_accuracy: 0.7696\n",
            "Epoch 4/5\n",
            "5627/5627 [==============================] - 91s 16ms/step - loss: 0.5785 - accuracy: 0.7819 - val_loss: 0.5993 - val_accuracy: 0.7720\n",
            "Epoch 5/5\n",
            "5627/5627 [==============================] - 91s 16ms/step - loss: 0.5621 - accuracy: 0.7885 - val_loss: 0.5965 - val_accuracy: 0.7736\n"
          ]
        }
      ]
    },
    {
      "cell_type": "markdown",
      "source": [
        "### Model 3: Conv1D with Character embedding"
      ],
      "metadata": {
        "id": "V9pykbglBI0G"
      }
    },
    {
      "cell_type": "code",
      "source": [
        "# making a func to do character level embedding\n",
        "def split_chars(text: str):\n",
        "    return \" \".join(list(text))"
      ],
      "metadata": {
        "id": "wI51TcKkDSty"
      },
      "execution_count": null,
      "outputs": []
    },
    {
      "cell_type": "code",
      "source": [
        "split_chars('mahsa davarmanesh')"
      ],
      "metadata": {
        "id": "N8WRkAG9FRjj",
        "colab": {
          "base_uri": "https://localhost:8080/",
          "height": 35
        },
        "outputId": "75912824-4f4a-4729-dde7-deeec47d0d69"
      },
      "execution_count": null,
      "outputs": [
        {
          "output_type": "execute_result",
          "data": {
            "text/plain": [
              "'m a h s a   d a v a r m a n e s h'"
            ],
            "application/vnd.google.colaboratory.intrinsic+json": {
              "type": "string"
            }
          },
          "metadata": {},
          "execution_count": 27
        }
      ]
    },
    {
      "cell_type": "code",
      "source": [
        "train_chars = [split_chars(sent) for sent in train_sents]\n",
        "valid_chars = [split_chars(sent) for sent in valid_sents]\n",
        "test_chars  = [split_chars(sent) for sent in test_sents]\n",
        "train_chars[:5]"
      ],
      "metadata": {
        "id": "Qu2h39s8FWNm",
        "colab": {
          "base_uri": "https://localhost:8080/"
        },
        "outputId": "9729a2bf-82e4-4429-97d1-4ff6c61eea44"
      },
      "execution_count": null,
      "outputs": [
        {
          "output_type": "execute_result",
          "data": {
            "text/plain": [
              "['t o   i n v e s t i g a t e   t h e   e f f i c a c y   o f   @   w e e k s   o f   d a i l y   l o w - d o s e   o r a l   p r e d n i s o l o n e   i n   i m p r o v i n g   p a i n   ,   m o b i l i t y   ,   a n d   s y s t e m i c   l o w - g r a d e   i n f l a m m a t i o n   i n   t h e   s h o r t   t e r m   a n d   w h e t h e r   t h e   e f f e c t   w o u l d   b e   s u s t a i n e d   a t   @   w e e k s   i n   o l d e r   a d u l t s   w i t h   m o d e r a t e   t o   s e v e r e   k n e e   o s t e o a r t h r i t i s   (   o a   )   .',\n",
              " 'a   t o t a l   o f   @   p a t i e n t s   w i t h   p r i m a r y   k n e e   o a   w e r e   r a n d o m i z e d   @ : @   ;   @   r e c e i v e d   @   m g / d a y   o f   p r e d n i s o l o n e   a n d   @   r e c e i v e d   p l a c e b o   f o r   @   w e e k s   .',\n",
              " 'o u t c o m e   m e a s u r e s   i n c l u d e d   p a i n   r e d u c t i o n   a n d   i m p r o v e m e n t   i n   f u n c t i o n   s c o r e s   a n d   s y s t e m i c   i n f l a m m a t i o n   m a r k e r s   .',\n",
              " 'p a i n   w a s   a s s e s s e d   u s i n g   t h e   v i s u a l   a n a l o g   p a i n   s c a l e   (   @ - @   m m   )   .',\n",
              " 's e c o n d a r y   o u t c o m e   m e a s u r e s   i n c l u d e d   t h e   w e s t e r n   o n t a r i o   a n d   m c m a s t e r   u n i v e r s i t i e s   o s t e o a r t h r i t i s   i n d e x   s c o r e s   ,   p a t i e n t   g l o b a l   a s s e s s m e n t   (   p g a   )   o f   t h e   s e v e r i t y   o f   k n e e   o a   ,   a n d   @ - m i n   w a l k   d i s t a n c e   (   @ m w d   )   .']"
            ]
          },
          "metadata": {},
          "execution_count": 28
        }
      ]
    },
    {
      "cell_type": "code",
      "source": [
        "ave_char_len = int(sum([len(i) for i in train_sents]) / len(train_sents))\n",
        "ave_char_len"
      ],
      "metadata": {
        "id": "ajKMvoK2F7cy",
        "colab": {
          "base_uri": "https://localhost:8080/"
        },
        "outputId": "df94a1f4-98e1-4b75-e27c-aada6fef8a72"
      },
      "execution_count": null,
      "outputs": [
        {
          "output_type": "execute_result",
          "data": {
            "text/plain": [
              "149"
            ]
          },
          "metadata": {},
          "execution_count": 29
        }
      ]
    },
    {
      "cell_type": "code",
      "source": [
        "optim_len_char = int(np.percentile(a=[len(i) for i in train_sents], q=95))"
      ],
      "metadata": {
        "id": "83hYN8AUHirr"
      },
      "execution_count": null,
      "outputs": []
    },
    {
      "cell_type": "code",
      "source": [
        "# getting all keyboard characters\n",
        "import string\n",
        "alphabet = string.ascii_lowercase + string.digits + string.punctuation\n",
        "alphabet, len(alphabet)"
      ],
      "metadata": {
        "id": "cIMv27mj2hoP",
        "colab": {
          "base_uri": "https://localhost:8080/"
        },
        "outputId": "1fd93128-8d19-4eba-e691-a84abc318601"
      },
      "execution_count": null,
      "outputs": [
        {
          "output_type": "execute_result",
          "data": {
            "text/plain": [
              "('abcdefghijklmnopqrstuvwxyz0123456789!\"#$%&\\'()*+,-./:;<=>?@[\\\\]^_`{|}~', 68)"
            ]
          },
          "metadata": {},
          "execution_count": 31
        }
      ]
    },
    {
      "cell_type": "code",
      "source": [
        "NUM_CHAR_TOKENS = len(alphabet) + 2 # for space and OOV character (in our chase  called UNK)"
      ],
      "metadata": {
        "id": "DkR0Uysm3KpO"
      },
      "execution_count": null,
      "outputs": []
    },
    {
      "cell_type": "code",
      "source": [
        "char_vectorizer = tf.keras.layers.TextVectorization(max_tokens=NUM_CHAR_TOKENS,\n",
        "                                                    output_sequence_length=ave_char_len,\n",
        "                                                    pad_to_max_tokens=True,\n",
        "                                                    name=\"char_vectorizer_layer\") # if we want to consider the puncs we shall change the \"standarize\"\n",
        "char_vectorizer.adapt(train_chars)"
      ],
      "metadata": {
        "id": "OQ6RV4dD13l0"
      },
      "execution_count": null,
      "outputs": []
    },
    {
      "cell_type": "code",
      "source": [
        "# checking char vocab stats\n",
        "char_vocab = char_vectorizer.get_vocabulary()\n",
        "print(char_vocab)"
      ],
      "metadata": {
        "id": "UfATR8Ha4VUg",
        "colab": {
          "base_uri": "https://localhost:8080/"
        },
        "outputId": "d6afc364-4313-4f8d-a0f0-c93facd08fad"
      },
      "execution_count": null,
      "outputs": [
        {
          "output_type": "stream",
          "name": "stdout",
          "text": [
            "['', '[UNK]', 'e', 't', 'i', 'a', 'n', 'o', 'r', 's', 'd', 'c', 'l', 'h', 'p', 'm', 'u', 'f', 'g', 'y', 'w', 'v', 'b', 'k', 'x', 'z', 'q', 'j']\n"
          ]
        }
      ]
    },
    {
      "cell_type": "code",
      "source": [
        "train_dataset_char = tf.data.Dataset.from_tensor_slices((train_chars, train_labels)).batch(32).prefetch(tf.data.AUTOTUNE)\n",
        "valid_dataset_char = tf.data.Dataset.from_tensor_slices((valid_chars, valid_labels)).batch(32).prefetch(tf.data.AUTOTUNE)\n",
        "test_dataset_char  = tf.data.Dataset.from_tensor_slices((test_chars, test_labels)).batch(32).prefetch(tf.data.AUTOTUNE)"
      ],
      "metadata": {
        "id": "DHYp1FVR-FAM"
      },
      "execution_count": null,
      "outputs": []
    },
    {
      "cell_type": "code",
      "source": [
        "inputs = keras.layers.Input(shape=(), dtype=tf.string)\n",
        "x = char_vectorizer(inputs)\n",
        "x = keras.layers.Embedding(input_dim=len(char_vocab),\n",
        "                           output_dim=25,\n",
        "                           # input_length=ave_char_len,\n",
        "                           mask_zero=True)(x)\n",
        "x = keras.layers.Conv1D(filters=64, kernel_size=3, padding='same', activation='relu')(x)\n",
        "x = keras.layers.GlobalMaxPooling1D()(x)\n",
        "outputs = keras.layers.Dense(units=num_classes, activation='softmax')(x)\n",
        "\n",
        "model_3 = keras.Model(inputs, outputs, name='model_3')\n",
        "\n",
        "model_3.compile(loss=keras.losses.CategoricalCrossentropy(),\n",
        "                optimizer=keras.optimizers.Adam(),\n",
        "                metrics='accuracy')\n",
        "\n",
        "model_3.summary()\n",
        "\n",
        "history_model_3 = model_3.fit(train_dataset_char,\n",
        "                              validation_data=valid_dataset_char,\n",
        "                              workers=os.cpu_count(),\n",
        "                              callbacks=[keras.callbacks.ModelCheckpoint(filepath='checkpoints/model_3.ckpt',\n",
        "                                                                         save_best_only=True),\n",
        "                                         keras.callbacks.TensorBoard(log_dir='logs/model_3',\n",
        "                                                                     write_images=True)],\n",
        "                              epochs=5)"
      ],
      "metadata": {
        "id": "nSeyCCSV4s4t",
        "colab": {
          "base_uri": "https://localhost:8080/"
        },
        "outputId": "f70917ec-9f88-4f6f-b8a0-9326721ee651"
      },
      "execution_count": null,
      "outputs": [
        {
          "output_type": "stream",
          "name": "stdout",
          "text": [
            "Model: \"model_3\"\n",
            "_________________________________________________________________\n",
            " Layer (type)                Output Shape              Param #   \n",
            "=================================================================\n",
            " input_3 (InputLayer)        [(None,)]                 0         \n",
            "                                                                 \n",
            " char_vectorizer_layer (Tex  (None, 149)               0         \n",
            " tVectorization)                                                 \n",
            "                                                                 \n",
            " embedding_1 (Embedding)     (None, 149, 25)           700       \n",
            "                                                                 \n",
            " conv1d_1 (Conv1D)           (None, 149, 64)           4864      \n",
            "                                                                 \n",
            " global_max_pooling1d (Glob  (None, 64)                0         \n",
            " alMaxPooling1D)                                                 \n",
            "                                                                 \n",
            " dense_3 (Dense)             (None, 5)                 325       \n",
            "                                                                 \n",
            "=================================================================\n",
            "Total params: 5889 (23.00 KB)\n",
            "Trainable params: 5889 (23.00 KB)\n",
            "Non-trainable params: 0 (0.00 Byte)\n",
            "_________________________________________________________________\n",
            "Epoch 1/5\n",
            "5627/5627 [==============================] - 37s 6ms/step - loss: 1.0141 - accuracy: 0.5966 - val_loss: 0.9093 - val_accuracy: 0.6393\n",
            "Epoch 2/5\n",
            "5627/5627 [==============================] - 36s 6ms/step - loss: 0.8793 - accuracy: 0.6565 - val_loss: 0.8587 - val_accuracy: 0.6586\n",
            "Epoch 3/5\n",
            "5627/5627 [==============================] - 35s 6ms/step - loss: 0.8414 - accuracy: 0.6733 - val_loss: 0.8305 - val_accuracy: 0.6731\n",
            "Epoch 4/5\n",
            "5627/5627 [==============================] - 37s 7ms/step - loss: 0.8215 - accuracy: 0.6826 - val_loss: 0.8159 - val_accuracy: 0.6816\n",
            "Epoch 5/5\n",
            "5627/5627 [==============================] - 34s 6ms/step - loss: 0.8089 - accuracy: 0.6886 - val_loss: 0.8079 - val_accuracy: 0.6865\n"
          ]
        }
      ]
    },
    {
      "cell_type": "code",
      "source": [
        "y_pred = tf.argmax(model_3.predict(test_chars), axis=1).numpy()\n",
        "print(y_pred)"
      ],
      "metadata": {
        "id": "NoAC62bc441S",
        "colab": {
          "base_uri": "https://localhost:8080/"
        },
        "outputId": "5cdaa5e7-0d93-4fc5-c565-040b927755d3"
      },
      "execution_count": null,
      "outputs": [
        {
          "output_type": "stream",
          "name": "stdout",
          "text": [
            "942/942 [==============================] - 4s 4ms/step\n",
            "[2 2 2 ... 4 4 1]\n"
          ]
        }
      ]
    },
    {
      "cell_type": "code",
      "source": [
        "evaluation(test_labels.argmax(axis=1), y_pred)"
      ],
      "metadata": {
        "id": "CzyNcIf8Fo7N",
        "colab": {
          "base_uri": "https://localhost:8080/"
        },
        "outputId": "51413194-efb7-4b14-b117-f7ea7951c0e6"
      },
      "execution_count": null,
      "outputs": [
        {
          "output_type": "stream",
          "name": "stdout",
          "text": [
            "--------------------------------------------------\n",
            "accuracy: 0.6805, recall: 0.6805, precision: 0.6711, f1: 0.6704\n",
            "\n",
            "              precision    recall  f1-score   support\n",
            "\n",
            "           0       0.54      0.46      0.50      3621\n",
            "           1       0.56      0.49      0.52      4571\n",
            "           2       0.77      0.77      0.77      9897\n",
            "           3       0.57      0.33      0.42      2333\n",
            "           4       0.70      0.84      0.76      9713\n",
            "\n",
            "    accuracy                           0.68     30135\n",
            "   macro avg       0.63      0.58      0.59     30135\n",
            "weighted avg       0.67      0.68      0.67     30135\n",
            "\n",
            "[[1661  793  475  362  330]\n",
            " [ 560 2260  393  107 1251]\n",
            " [ 205  186 7619  102 1785]\n",
            " [ 564  431  363  770  205]\n",
            " [  68  378 1058   11 8198]]\n"
          ]
        },
        {
          "output_type": "execute_result",
          "data": {
            "text/plain": [
              "{'acc': 0.6805375808860129,\n",
              " 'recall': 0.6805375808860129,\n",
              " 'precision': 0.671109355379929,\n",
              " 'f1': 0.6703596443773496}"
            ]
          },
          "metadata": {},
          "execution_count": 38
        }
      ]
    },
    {
      "cell_type": "markdown",
      "source": [
        "### Model 4: Pre-trained token embedding (same as 2) with character embedding (same as 3)\n",
        "\n",
        "steps to do so:\n",
        "1. creating a token-level embedding model (similiar to `model_1`)\n",
        "2. creating a character-lavel embedding model (similiar to `model_3`) with some slight modifications\n",
        "3. combining previous models using a concatinate layer (`keras.layers.Concatinate`)\n",
        "4. building a series of output layers on top of previous layer similar to Figure 1 of the paper\n",
        "5. constructing a model to take token-lavel and character-level sequences as input and produces label probabilities as output\n"
      ],
      "metadata": {
        "id": "w2J0-chzIhf_"
      }
    },
    {
      "cell_type": "code",
      "source": [
        "# 1. token-level model\n",
        "token_inputs = keras.layers.Input(shape=(), dtype=tf.string, name='token_input_layer')\n",
        "x = transfer_embedding_layer(token_inputs)\n",
        "token_outputs = keras.layers.Dense(units=128, activation='relu')(x)\n",
        "\n",
        "token_model = keras.Model(inputs=token_inputs, outputs=token_outputs, name='token_embedding_model')\n",
        "\n",
        "# 2. char-level model\n",
        "char_inputs = keras.layers.Input(shape=(), dtype=tf.string, name='char_input_layer')\n",
        "x = char_vectorizer(char_inputs)\n",
        "x = keras.layers.Embedding(input_dim=len(char_vocab),\n",
        "                           output_dim=25,\n",
        "                           mask_zero=True)(x)\n",
        "char_outputs = keras.layers.Bidirectional(layer=keras.layers.LSTM(units=32))(x)\n",
        "\n",
        "char_model = keras.Model(inputs=char_inputs, outputs=char_outputs, name='char_model_bi_lstm')\n",
        "\n",
        "# 3. concate\n",
        "concate_layer = keras.layers.Concatenate(name='concate_layer')([token_model.output,\n",
        "                                                                char_model.output])\n",
        "# 4. creating output layer\n",
        "dropout_layer = keras.layers.Dropout(rate=0.5)(concate_layer)\n",
        "x = keras.layers.Dense(units=128, activation='relu')(dropout_layer)\n",
        "x = keras.layers.Dropout(rate=0.5)(x)\n",
        "outputs = keras.layers.Dense(units=num_classes, activation='softmax', name='output_layer')(x)\n",
        "\n",
        "# conctructing\n",
        "model_4 = keras.Model(inputs=[token_model.input,\n",
        "                              char_model.input],\n",
        "                      outputs=outputs,\n",
        "                      name='model_4')\n",
        "\n",
        "model_4.compile(loss=keras.losses.CategoricalCrossentropy(),\n",
        "                optimizer=keras.optimizers.Adam(),\n",
        "                metrics='accuracy')\n",
        "\n",
        "model_4.summary()\n",
        "\n",
        "keras.utils.plot_model(model_4,)\n",
        "\n",
        "# history_model_4 = model_4.fit()"
      ],
      "metadata": {
        "id": "ULKHe5dlHyY9",
        "colab": {
          "base_uri": "https://localhost:8080/",
          "height": 1000
        },
        "outputId": "11c0c6f3-40e8-4f77-f575-0926c30529f9"
      },
      "execution_count": null,
      "outputs": [
        {
          "output_type": "stream",
          "name": "stdout",
          "text": [
            "Model: \"model_4\"\n",
            "__________________________________________________________________________________________________\n",
            " Layer (type)                Output Shape                 Param #   Connected to                  \n",
            "==================================================================================================\n",
            " char_input_layer (InputLay  [(None,)]                    0         []                            \n",
            " er)                                                                                              \n",
            "                                                                                                  \n",
            " token_input_layer (InputLa  [(None,)]                    0         []                            \n",
            " yer)                                                                                             \n",
            "                                                                                                  \n",
            " char_vectorizer_layer (Tex  (None, 149)                  0         ['char_input_layer[0][0]']    \n",
            " tVectorization)                                                                                  \n",
            "                                                                                                  \n",
            " USE_layer (KerasLayer)      (None, 512)                  2567978   ['token_input_layer[0][0]']   \n",
            "                                                          24                                      \n",
            "                                                                                                  \n",
            " embedding_2 (Embedding)     (None, 149, 25)              700       ['char_vectorizer_layer[1][0]'\n",
            "                                                                    ]                             \n",
            "                                                                                                  \n",
            " dense_4 (Dense)             (None, 128)                  65664     ['USE_layer[1][0]']           \n",
            "                                                                                                  \n",
            " bidirectional (Bidirection  (None, 64)                   14848     ['embedding_2[0][0]']         \n",
            " al)                                                                                              \n",
            "                                                                                                  \n",
            " concate_layer (Concatenate  (None, 192)                  0         ['dense_4[0][0]',             \n",
            " )                                                                   'bidirectional[0][0]']       \n",
            "                                                                                                  \n",
            " dropout (Dropout)           (None, 192)                  0         ['concate_layer[0][0]']       \n",
            "                                                                                                  \n",
            " dense_5 (Dense)             (None, 128)                  24704     ['dropout[0][0]']             \n",
            "                                                                                                  \n",
            " dropout_1 (Dropout)         (None, 128)                  0         ['dense_5[0][0]']             \n",
            "                                                                                                  \n",
            " output_layer (Dense)        (None, 5)                    645       ['dropout_1[0][0]']           \n",
            "                                                                                                  \n",
            "==================================================================================================\n",
            "Total params: 256904385 (980.01 MB)\n",
            "Trainable params: 106561 (416.25 KB)\n",
            "Non-trainable params: 256797824 (979.61 MB)\n",
            "__________________________________________________________________________________________________\n"
          ]
        },
        {
          "output_type": "execute_result",
          "data": {
            "image/png": "[encoded data removed]",
            "text/plain": [
              "<IPython.core.display.Image object>"
            ]
          },
          "metadata": {},
          "execution_count": 39
        }
      ]
    },
    {
      "cell_type": "code",
      "source": [
        "train_char_token_data = tf.data.Dataset.from_tensor_slices((train_sents, train_chars)) # the order must be same as inputs argument of tf.keras.Model\n",
        "train_char_token_label = tf.data.Dataset.from_tensor_slices(train_labels)\n",
        "train_char_token_dataset = tf.data.Dataset.zip((train_char_token_data, train_char_token_label)).batch(32).prefetch(tf.data.AUTOTUNE)\n",
        "\n",
        "valid_char_token_dataset = tf.data.Dataset.zip((\n",
        "                                tf.data.Dataset.from_tensor_slices((valid_sents, valid_chars)),\n",
        "                                tf.data.Dataset.from_tensor_slices(valid_labels))).batch(32).prefetch(tf.data.AUTOTUNE)\n",
        "\n",
        "test_char_token_dataset = tf.data.Dataset.zip((\n",
        "                                tf.data.Dataset.from_tensor_slices((test_sents, test_chars)),\n",
        "                                tf.data.Dataset.from_tensor_slices(test_labels))).batch(32).prefetch(tf.data.AUTOTUNE)"
      ],
      "metadata": {
        "id": "jKMkHUfIDv5b"
      },
      "execution_count": null,
      "outputs": []
    },
    {
      "cell_type": "code",
      "source": [
        "train_char_token_dataset"
      ],
      "metadata": {
        "id": "M3lVroNzPsuK",
        "colab": {
          "base_uri": "https://localhost:8080/"
        },
        "outputId": "ad17c7e7-4529-45d7-b93a-1e1416a0cd1e"
      },
      "execution_count": null,
      "outputs": [
        {
          "output_type": "execute_result",
          "data": {
            "text/plain": [
              "<_PrefetchDataset element_spec=((TensorSpec(shape=(None,), dtype=tf.string, name=None), TensorSpec(shape=(None,), dtype=tf.string, name=None)), TensorSpec(shape=(None, 5), dtype=tf.float64, name=None))>"
            ]
          },
          "metadata": {},
          "execution_count": 41
        }
      ]
    },
    {
      "cell_type": "code",
      "source": [
        "history_model_4 = model_4.fit(train_char_token_dataset,\n",
        "                              validation_data=valid_char_token_dataset,\n",
        "                              callbacks=[keras.callbacks.ModelCheckpoint(filepath='checkpoints/model_4.ckpt',\n",
        "                                                                         save_best_only=True),\n",
        "                                         keras.callbacks.TensorBoard(log_dir='logs/model_4',\n",
        "                                                                     write_images=True)],\n",
        "                              epochs=5,)"
      ],
      "metadata": {
        "id": "4hfBKn6FQN77",
        "colab": {
          "base_uri": "https://localhost:8080/"
        },
        "outputId": "cf8171a4-51e6-47fd-a791-31515cbb6d6c"
      },
      "execution_count": null,
      "outputs": [
        {
          "output_type": "stream",
          "name": "stdout",
          "text": [
            "Epoch 1/5\n",
            "5627/5627 [==============================] - 244s 41ms/step - loss: 0.7645 - accuracy: 0.7082 - val_loss: 0.6322 - val_accuracy: 0.7592\n",
            "Epoch 2/5\n",
            "5627/5627 [==============================] - 229s 41ms/step - loss: 0.6824 - accuracy: 0.7435 - val_loss: 0.6034 - val_accuracy: 0.7709\n",
            "Epoch 3/5\n",
            "5627/5627 [==============================] - 224s 40ms/step - loss: 0.6579 - accuracy: 0.7529 - val_loss: 0.5876 - val_accuracy: 0.7775\n",
            "Epoch 4/5\n",
            "5627/5627 [==============================] - 236s 42ms/step - loss: 0.6426 - accuracy: 0.7584 - val_loss: 0.5786 - val_accuracy: 0.7794\n",
            "Epoch 5/5\n",
            "5627/5627 [==============================] - 233s 41ms/step - loss: 0.6278 - accuracy: 0.7635 - val_loss: 0.5697 - val_accuracy: 0.7835\n"
          ]
        }
      ]
    },
    {
      "cell_type": "markdown",
      "source": [
        "### Model 5: Pre-trained token embedding + character embedding + positional embeddings\n",
        "now we add positions of sentences in the abstract to the model\n",
        "\n",
        "it has to be encoded `one_hot`ly so the model doesn't think 2 is twice the 1 and so on..."
      ],
      "metadata": {
        "id": "Oo6PfGRhoYt0"
      }
    },
    {
      "cell_type": "code",
      "source": [
        "train_data['line_number'].value_counts()"
      ],
      "metadata": {
        "id": "ZCQQJIaGpDE8",
        "colab": {
          "base_uri": "https://localhost:8080/"
        },
        "outputId": "1e24bec2-e420-4f3a-c18a-cd029d3efd71"
      },
      "execution_count": null,
      "outputs": [
        {
          "output_type": "execute_result",
          "data": {
            "text/plain": [
              "0     15000\n",
              "1     15000\n",
              "2     15000\n",
              "3     15000\n",
              "4     14992\n",
              "5     14949\n",
              "6     14758\n",
              "7     14279\n",
              "8     13346\n",
              "9     11981\n",
              "10    10041\n",
              "11     7892\n",
              "12     5853\n",
              "13     4152\n",
              "14     2835\n",
              "15     1861\n",
              "16     1188\n",
              "17      751\n",
              "18      462\n",
              "19      286\n",
              "20      162\n",
              "21      101\n",
              "22       66\n",
              "23       33\n",
              "24       22\n",
              "25       14\n",
              "26        7\n",
              "27        4\n",
              "28        3\n",
              "29        1\n",
              "30        1\n",
              "Name: line_number, dtype: int64"
            ]
          },
          "metadata": {},
          "execution_count": 43
        }
      ]
    },
    {
      "cell_type": "code",
      "source": [
        "train_line_numbers = tf.one_hot(train_data['line_number'].to_numpy(), depth=15)\n",
        "valid_line_numbers = tf.one_hot(valid_data['line_number'].to_numpy(), depth=15)\n",
        "test_line_numbers  = tf.one_hot(test_data['line_number'].to_numpy(), depth=15)\n",
        "\n",
        "train_line_numbers"
      ],
      "metadata": {
        "id": "veoEStwGpGZ9",
        "colab": {
          "base_uri": "https://localhost:8080/"
        },
        "outputId": "2085d584-1390-4737-ca35-d1cc4829a0fe"
      },
      "execution_count": null,
      "outputs": [
        {
          "output_type": "execute_result",
          "data": {
            "text/plain": [
              "<tf.Tensor: shape=(180040, 15), dtype=float32, numpy=\n",
              "array([[1., 0., 0., ..., 0., 0., 0.],\n",
              "       [0., 1., 0., ..., 0., 0., 0.],\n",
              "       [0., 0., 1., ..., 0., 0., 0.],\n",
              "       ...,\n",
              "       [0., 0., 0., ..., 0., 0., 0.],\n",
              "       [0., 0., 0., ..., 0., 0., 0.],\n",
              "       [0., 0., 0., ..., 0., 0., 0.]], dtype=float32)>"
            ]
          },
          "metadata": {},
          "execution_count": 44
        }
      ]
    },
    {
      "cell_type": "code",
      "source": [
        "train_data['total_lines'].value_counts()"
      ],
      "metadata": {
        "id": "WagabLs6qPzB",
        "colab": {
          "base_uri": "https://localhost:8080/"
        },
        "outputId": "59a4b262-e1d1-40d0-cedd-48a0b49355ae"
      },
      "execution_count": null,
      "outputs": [
        {
          "output_type": "execute_result",
          "data": {
            "text/plain": [
              "11    24468\n",
              "10    23639\n",
              "12    22113\n",
              "9     19400\n",
              "13    18438\n",
              "14    14610\n",
              "8     12285\n",
              "15    10768\n",
              "7      7464\n",
              "16     7429\n",
              "17     5202\n",
              "6      3353\n",
              "18     3344\n",
              "19     2480\n",
              "20     1281\n",
              "5      1146\n",
              "21      770\n",
              "22      759\n",
              "23      264\n",
              "4       215\n",
              "24      200\n",
              "25      182\n",
              "26       81\n",
              "28       58\n",
              "3        32\n",
              "30       31\n",
              "27       28\n",
              "Name: total_lines, dtype: int64"
            ]
          },
          "metadata": {},
          "execution_count": 45
        }
      ]
    },
    {
      "cell_type": "code",
      "source": [
        "len(np.unique(train_data['total_lines'].values))"
      ],
      "metadata": {
        "id": "7Dcc0Szrrvwj",
        "colab": {
          "base_uri": "https://localhost:8080/"
        },
        "outputId": "75f69e12-0329-45fc-ac94-275584dc6921"
      },
      "execution_count": null,
      "outputs": [
        {
          "output_type": "execute_result",
          "data": {
            "text/plain": [
              "27"
            ]
          },
          "metadata": {},
          "execution_count": 46
        }
      ]
    },
    {
      "cell_type": "code",
      "source": [
        "train_data['total_lines'].plot.hist();"
      ],
      "metadata": {
        "id": "aJtNlHzZsGQ_",
        "colab": {
          "base_uri": "https://localhost:8080/",
          "height": 431
        },
        "outputId": "f417cf6d-8ebb-41ed-80be-869279b2fd70"
      },
      "execution_count": null,
      "outputs": [
        {
          "output_type": "display_data",
          "data": {
            "text/plain": [
              "<Figure size 640x480 with 1 Axes>"
            ],
            "image/png": "[encoded data removed]"
          },
          "metadata": {}
        }
      ]
    },
    {
      "cell_type": "code",
      "source": [
        "print(np.percentile(a=train_data['total_lines'].values, q=90))\n",
        "print(np.percentile(a=train_data['total_lines'].values, q=95))\n",
        "print(np.percentile(a=train_data['total_lines'].values, q=98))"
      ],
      "metadata": {
        "id": "lB4Xw1ZFtmDK",
        "colab": {
          "base_uri": "https://localhost:8080/"
        },
        "outputId": "6c6beb20-3ab6-47b4-89a2-ce41e726698c"
      },
      "execution_count": null,
      "outputs": [
        {
          "output_type": "stream",
          "name": "stdout",
          "text": [
            "16.0\n",
            "18.0\n",
            "20.0\n"
          ]
        }
      ]
    },
    {
      "cell_type": "code",
      "source": [
        "train_total_lines = tf.one_hot(train_data['total_lines'], depth=20)\n",
        "valid_total_lines = tf.one_hot(valid_data['total_lines'], depth=20)\n",
        "test_total_lines  = tf.one_hot(test_data['total_lines'], depth=20)\n",
        "\n",
        "train_total_lines"
      ],
      "metadata": {
        "id": "6AZPKbUXuDCJ",
        "colab": {
          "base_uri": "https://localhost:8080/"
        },
        "outputId": "d6493fd0-d690-4e62-f61d-3a09d132f3fc"
      },
      "execution_count": null,
      "outputs": [
        {
          "output_type": "execute_result",
          "data": {
            "text/plain": [
              "<tf.Tensor: shape=(180040, 20), dtype=float32, numpy=\n",
              "array([[0., 0., 0., ..., 0., 0., 0.],\n",
              "       [0., 0., 0., ..., 0., 0., 0.],\n",
              "       [0., 0., 0., ..., 0., 0., 0.],\n",
              "       ...,\n",
              "       [0., 0., 0., ..., 0., 0., 0.],\n",
              "       [0., 0., 0., ..., 0., 0., 0.],\n",
              "       [0., 0., 0., ..., 0., 0., 0.]], dtype=float32)>"
            ]
          },
          "metadata": {},
          "execution_count": 49
        }
      ]
    },
    {
      "cell_type": "markdown",
      "source": [
        "steps to build our model:\n",
        "1. create a token-level model\n",
        "2. create a character-level model\n",
        "3. create a model for `line_number` feature\n",
        "4. create a model for `total_lines` feature\n",
        "5. combine the outputs of 1 & 2\n",
        "6. combine the outputs of 3, 4 & 5\n",
        "7. creating an output layer to accept the tribrid embeddings and output label probabilities\n",
        "8. combine the inputs of 1, 2, 3, 4, 5 and outputs of 7 into a `keras.Model`"
      ],
      "metadata": {
        "id": "7WCkTV1rwbRZ"
      }
    },
    {
      "cell_type": "code",
      "source": [
        "# 1. token model\n",
        "token_inputs = keras.layers.Input(shape=(), dtype=tf.string)\n",
        "x = transfer_embedding_layer(token_inputs)\n",
        "token_outputs = keras.layers.Dense(units=128, activation='relu')(x)\n",
        "\n",
        "token_model = keras.Model(inputs=token_inputs, outputs=token_outputs, name='token_model')\n",
        "\n",
        "# 2. char model\n",
        "char_inputs = keras.layers.Input(shape=(), dtype=tf.string)\n",
        "x = char_vectorizer(char_inputs)\n",
        "x = keras.layers.Embedding(input_dim=len(char_vocab), output_dim=25, mask_zero=True)(x)\n",
        "char_outputs = keras.layers.Bidirectional(layer=keras.layers.LSTM(units=32))(x)\n",
        "\n",
        "char_model = keras.Model(inputs=char_inputs, outputs=char_outputs, name='char_model')\n",
        "\n",
        "# 3. line number model\n",
        "line_number_inputs = keras.layers.Input(shape=(15,))\n",
        "line_number_outputs = keras.layers.Dense(units=32, activation='relu')(line_number_inputs)\n",
        "\n",
        "line_number_model = keras.Model(inputs=line_number_inputs, outputs=line_number_outputs, name='line_number_model')\n",
        "\n",
        "# 4. total lines model\n",
        "total_lines_inputs = keras.layers.Input(shape=(20,))\n",
        "total_lines_outputs = keras.layers.Dense(units=32, activation='relu')(total_lines_inputs)\n",
        "\n",
        "total_lines_model = keras.Model(inputs=total_lines_inputs, outputs=total_lines_outputs, name='total_lines_model')\n",
        "\n",
        "# 5. combine 1 & 2\n",
        "concat_token_char_layer = keras.layers.Concatenate()([token_model.output,\n",
        "                                                      char_model.output])\n",
        "\n",
        "x = keras.layers.Dense(units=256, activation='relu')(concat_token_char_layer)\n",
        "concat_token_char_outputs = keras.layers.Dropout(rate=0.5)(x)\n",
        "\n",
        "# 6. combine 3, 4, 5\n",
        "tribrid_embedding = keras.layers.Concatenate(name='tribrid_embedding')([line_number_model.output,\n",
        "                                                                        total_lines_model.output,\n",
        "                                                                        concat_token_char_outputs])\n",
        "\n",
        "# 7. create output layer\n",
        "output_layer = keras.layers.Dense(units=num_classes, activation='softmax')(tribrid_embedding)\n",
        "\n",
        "# 8. constructing the model\n",
        "model_5 = keras.Model(inputs=[line_number_model.input,\n",
        "                              total_lines_model.input,\n",
        "                              token_model.input,\n",
        "                              char_model.input],\n",
        "                      outputs=output_layer,\n",
        "                      name='model_5_tribrid')\n",
        "\n",
        "model_5.compile(loss=keras.losses.CategoricalCrossentropy(label_smoothing=0.2),\n",
        "                optimizer=keras.optimizers.Adam(),\n",
        "                metrics='accuracy')\n",
        "\n",
        "model_5.summary()\n",
        "\n",
        "keras.utils.plot_model(model_5)"
      ],
      "metadata": {
        "id": "q96_Iowwu7Y1",
        "colab": {
          "base_uri": "https://localhost:8080/",
          "height": 1000
        },
        "outputId": "afe19f7f-1bdf-48db-92bc-25e9d151178f"
      },
      "execution_count": null,
      "outputs": [
        {
          "output_type": "stream",
          "name": "stdout",
          "text": [
            "Model: \"model_5_tribrid\"\n",
            "__________________________________________________________________________________________________\n",
            " Layer (type)                Output Shape                 Param #   Connected to                  \n",
            "==================================================================================================\n",
            " input_5 (InputLayer)        [(None,)]                    0         []                            \n",
            "                                                                                                  \n",
            " input_4 (InputLayer)        [(None,)]                    0         []                            \n",
            "                                                                                                  \n",
            " char_vectorizer_layer (Tex  (None, 149)                  0         ['input_5[0][0]']             \n",
            " tVectorization)                                                                                  \n",
            "                                                                                                  \n",
            " USE_layer (KerasLayer)      (None, 512)                  2567978   ['input_4[0][0]']             \n",
            "                                                          24                                      \n",
            "                                                                                                  \n",
            " embedding_3 (Embedding)     (None, 149, 25)              700       ['char_vectorizer_layer[2][0]'\n",
            "                                                                    ]                             \n",
            "                                                                                                  \n",
            " dense_6 (Dense)             (None, 128)                  65664     ['USE_layer[2][0]']           \n",
            "                                                                                                  \n",
            " bidirectional_1 (Bidirecti  (None, 64)                   14848     ['embedding_3[0][0]']         \n",
            " onal)                                                                                            \n",
            "                                                                                                  \n",
            " concatenate (Concatenate)   (None, 192)                  0         ['dense_6[0][0]',             \n",
            "                                                                     'bidirectional_1[0][0]']     \n",
            "                                                                                                  \n",
            " input_6 (InputLayer)        [(None, 15)]                 0         []                            \n",
            "                                                                                                  \n",
            " input_7 (InputLayer)        [(None, 20)]                 0         []                            \n",
            "                                                                                                  \n",
            " dense_9 (Dense)             (None, 256)                  49408     ['concatenate[0][0]']         \n",
            "                                                                                                  \n",
            " dense_7 (Dense)             (None, 32)                   512       ['input_6[0][0]']             \n",
            "                                                                                                  \n",
            " dense_8 (Dense)             (None, 32)                   672       ['input_7[0][0]']             \n",
            "                                                                                                  \n",
            " dropout_2 (Dropout)         (None, 256)                  0         ['dense_9[0][0]']             \n",
            "                                                                                                  \n",
            " tribrid_embedding (Concate  (None, 320)                  0         ['dense_7[0][0]',             \n",
            " nate)                                                               'dense_8[0][0]',             \n",
            "                                                                     'dropout_2[0][0]']           \n",
            "                                                                                                  \n",
            " dense_10 (Dense)            (None, 5)                    1605      ['tribrid_embedding[0][0]']   \n",
            "                                                                                                  \n",
            "==================================================================================================\n",
            "Total params: 256931233 (980.11 MB)\n",
            "Trainable params: 133409 (521.13 KB)\n",
            "Non-trainable params: 256797824 (979.61 MB)\n",
            "__________________________________________________________________________________________________\n"
          ]
        },
        {
          "output_type": "execute_result",
          "data": {
            "image/png": "[encoded data removed]",
            "text/plain": [
              "<IPython.core.display.Image object>"
            ]
          },
          "metadata": {},
          "execution_count": 50
        }
      ]
    },
    {
      "cell_type": "code",
      "source": [
        "train_tribrid_dataset = tf.data.Dataset.zip((tf.data.Dataset.from_tensor_slices((train_line_numbers, train_total_lines, train_sents, train_chars)),\n",
        "                                             tf.data.Dataset.from_tensor_slices(train_labels))).batch(32).prefetch(tf.data.AUTOTUNE)\n",
        "\n",
        "valid_tribrid_dataset = tf.data.Dataset.zip((tf.data.Dataset.from_tensor_slices((valid_line_numbers, valid_total_lines, valid_sents, valid_chars)),\n",
        "                                             tf.data.Dataset.from_tensor_slices(valid_labels))).batch(32).prefetch(tf.data.AUTOTUNE)\n",
        "\n",
        "test_tribrid_dataset = tf.data.Dataset.zip((tf.data.Dataset.from_tensor_slices((test_line_numbers, test_total_lines, test_sents, test_chars)),\n",
        "                                             tf.data.Dataset.from_tensor_slices(test_labels))).batch(32).prefetch(tf.data.AUTOTUNE)"
      ],
      "metadata": {
        "id": "J8hvKMcZfzWg"
      },
      "execution_count": null,
      "outputs": []
    },
    {
      "cell_type": "code",
      "source": [
        "history_model_5 = model_5.fit(train_tribrid_dataset,\n",
        "                              validation_data=valid_tribrid_dataset,\n",
        "                              callbacks=[keras.callbacks.TensorBoard(log_dir='logs/model_5',\n",
        "                                                                     write_images=True),\n",
        "                                         keras.callbacks.ModelCheckpoint(filepath='checkpoints/model_5.ckpt',\n",
        "                                                                         save_best_only=True)],\n",
        "                              epochs=5)"
      ],
      "metadata": {
        "id": "t7o_N5sb4UEn",
        "colab": {
          "base_uri": "https://localhost:8080/"
        },
        "outputId": "fa4c24c9-e08d-4fda-a015-e0a4cb823adf"
      },
      "execution_count": null,
      "outputs": [
        {
          "output_type": "stream",
          "name": "stdout",
          "text": [
            "Epoch 1/5\n",
            "5627/5627 [==============================] - 254s 43ms/step - loss: 0.9543 - accuracy: 0.8225 - val_loss: 0.9111 - val_accuracy: 0.8457\n",
            "Epoch 2/5\n",
            "5627/5627 [==============================] - 236s 42ms/step - loss: 0.9097 - accuracy: 0.8534 - val_loss: 0.9022 - val_accuracy: 0.8511\n",
            "Epoch 3/5\n",
            "5627/5627 [==============================] - 234s 42ms/step - loss: 0.8976 - accuracy: 0.8628 - val_loss: 0.8994 - val_accuracy: 0.8532\n",
            "Epoch 4/5\n",
            "5627/5627 [==============================] - 206s 37ms/step - loss: 0.8890 - accuracy: 0.8685 - val_loss: 0.9018 - val_accuracy: 0.8535\n",
            "Epoch 5/5\n",
            "5627/5627 [==============================] - 237s 42ms/step - loss: 0.8827 - accuracy: 0.8736 - val_loss: 0.8994 - val_accuracy: 0.8540\n"
          ]
        }
      ]
    },
    {
      "cell_type": "code",
      "source": [],
      "metadata": {
        "id": "CZN-nSENiLgU"
      },
      "execution_count": null,
      "outputs": []
    }
  ]
}